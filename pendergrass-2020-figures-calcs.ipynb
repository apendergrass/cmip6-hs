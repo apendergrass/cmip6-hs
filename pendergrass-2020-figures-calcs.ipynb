{
 "cells": [
  {
   "cell_type": "markdown",
   "metadata": {},
   "source": [
    "### Read ECS and HS data and plot"
   ]
  },
  {
   "cell_type": "code",
   "execution_count": 1,
   "metadata": {},
   "outputs": [],
   "source": [
    "import csv\n",
    "import sys\n",
    "import os\n",
    "import datetime\n",
    "\n",
    "%matplotlib inline\n",
    "import numpy as np\n",
    "import warnings\n",
    "warnings.filterwarnings('ignore')\n",
    "import xarray as xr\n",
    "from matplotlib import pyplot as plt\n",
    "from scipy import stats\n",
    "\n",
    "import pandas as pd\n",
    "\n",
    "from matplotlib import patches as pa\n"
   ]
  },
  {
   "cell_type": "markdown",
   "metadata": {},
   "source": [
    "### To compare calculations dropping the first 20 years of abrupt-4xCO2:\n",
    "Replace all instances of the function remove_drift with remove_drift_and_20"
   ]
  },
  {
   "cell_type": "code",
   "execution_count": 2,
   "metadata": {},
   "outputs": [],
   "source": [
    "def remove_drift_and_20(ds_modvariant_variable):\n",
    "    # should have 2 experiments and 150 times\n",
    " \n",
    "    y_pi_annual = ds_modvariant_variable.sel(experiment=(\"piControl\"))\n",
    "    y_4x_annual = ds_modvariant_variable.sel(experiment=(\"abrupt_4xCO2\")) # why not abrupt-4xCO2???\n",
    "\n",
    "    x = range(len(y_4x_annual))\n",
    "    #x_pi = x\n",
    "    model = modvar.split(\"_\")[0]\n",
    "    x = range(len(y_4x_annual))\n",
    "    if model==\"EC-Earth3\" or model==\"IITM-ESM\":\n",
    "        print(\"fix for EC-Earth3, and IITM-ESM - branch is before piControl data starts. estimate trend from the end\")\n",
    "        print(\"current model: \"+model)\n",
    "        y_pi_annual_nan = y_pi_annual.dropna(dim=\"time\")\n",
    "        x_pi = x[(len(x)-len(y_pi_annual_nan)):]\n",
    "    else: \n",
    "        x_pi = x\n",
    "        y_pi_annual_nan = y_pi_annual\n",
    "    \n",
    "    slope, intercept, r_value, p_value, std_err = stats.linregress(x_pi,y_pi_annual_nan)\n",
    "    dy = y_4x_annual-(intercept + slope*x)\n",
    "    \n",
    "    if len(dy)<150:\n",
    "        print(\"  --- WARNING: Fix remove_drift for drop20 to work \",len(dy),\" ---\")\n",
    "    dy = dy[20:]\n",
    "    \n",
    "    return dy"
   ]
  },
  {
   "cell_type": "code",
   "execution_count": 3,
   "metadata": {},
   "outputs": [],
   "source": [
    "def remove_drift(ds_modvariant_variable):\n",
    "    # should have 2 experiments and 150 times\n",
    " \n",
    "    y_pi_annual = ds_modvariant_variable.sel(experiment=(\"piControl\"))\n",
    "    y_4x_annual = ds_modvariant_variable.sel(experiment=(\"abrupt_4xCO2\")) # why not abrupt-4xCO2???\n",
    "\n",
    "    x = range(len(y_4x_annual))\n",
    "    #x_pi = x\n",
    "    model = modvar.split(\"_\")[0]\n",
    "    x = range(len(y_4x_annual))\n",
    "    if model==\"EC-Earth3\" or model==\"IITM-ESM\":\n",
    "        print(\"fix for EC-Earth3, and IITM-ESM - branch is before piControl data starts. estimate trend from the end\")\n",
    "        print(\"current model: \"+model)\n",
    "        y_pi_annual_nan = y_pi_annual.dropna(dim=\"time\")\n",
    "        x_pi = x[(len(x)-len(y_pi_annual_nan)):]\n",
    "    else: \n",
    "        x_pi = x\n",
    "        y_pi_annual_nan = y_pi_annual\n",
    "    \n",
    "    slope, intercept, r_value, p_value, std_err = stats.linregress(x_pi,y_pi_annual_nan)\n",
    "    dy = y_4x_annual-(intercept + slope*x)\n",
    "    \n",
    "    return dy"
   ]
  },
  {
   "cell_type": "code",
   "execution_count": 4,
   "metadata": {},
   "outputs": [],
   "source": [
    "def match_data(models_variants, modvar_data):\n",
    "    #modvar_data = FECS.copy()\n",
    "    mod_data = {}\n",
    "    for model in list(models_variants):\n",
    "        try:\n",
    "            arr = [item for key,item in modvar_data[model].items()]    \n",
    "            mod_data[model]=np.mean(arr,0)\n",
    "        except:\n",
    "            mod_data[model] = np.nan\n",
    "    return mod_data"
   ]
  },
  {
   "cell_type": "code",
   "execution_count": 7,
   "metadata": {},
   "outputs": [],
   "source": [
    "def precip_lists_to_arrays(data,models):\n",
    "    #[dp_d,dpdT,p_pi,intercept_d,intercept,thedpr_d,thedpr,thedt]\n",
    "    # result will be [ type ]\n",
    "    #       types - 0: drift removed, 1: mean pi removed, 2: mean pi \n",
    "    array = np.zeros([len(models),3])*np.nan\n",
    "    ints = np.zeros([len(models),2])*np.nan\n",
    "    dp = np.zeros([len(models),2])*np.nan\n",
    "    dt = np.zeros([len(models)])*np.nan\n",
    "    for imod in range(len(models)):\n",
    "        model=models[imod]\n",
    "        try:\n",
    "            array[imod,0]=data[model][0]\n",
    "            array[imod,1]=data[model][1]\n",
    "            array[imod,2]=data[model][2]\n",
    "            ints[imod,0]=data[model][3]\n",
    "            ints[imod,1]=data[model][4]\n",
    "            dp[imod,0]=data[model][5]\n",
    "            dp[imod,1]=data[model][6]\n",
    "            dt[imod]=data[model][7]\n",
    "        except:\n",
    "            dt[imod]=np.nan\n",
    "    return array,ints,dp,dt"
   ]
  },
  {
   "cell_type": "code",
   "execution_count": 8,
   "metadata": {},
   "outputs": [],
   "source": [
    "def flux_lists_to_arrays(fluxes,models):\n",
    "    #[dSWutdT_d,dOLRdT_d,dNutdT_d,dSWutdT,dOLRdT,dNutdT,dSWut_pi,dOLR_pi,Nut_pi]\n",
    "    #[dSWdsdT_d,dLWdsdT_d,dNdsdT_d,dSWdsdT,dLWdsdT,dNdsdT,dSWds_pi,dLWds_pi,Nds_pi]\n",
    "    # result will be [wavelength,type]\n",
    "    #   wavelengths - 0: SW, 1: LW, 2: Net\n",
    "    #         types - 0: drift removed, 1: mean pi removed, 2: mean pi \n",
    "    # Sign convention: positive is more precip (TOA: positive up) (SFC: positive down)\n",
    "    array = np.zeros([len(models),3,3])*np.nan\n",
    "    for imod in range(len(models)):\n",
    "        model=models[imod]\n",
    "        array[imod,0,0]=fluxes[model][0]\n",
    "        array[imod,1,0]=fluxes[model][1]\n",
    "        array[imod,2,0]=fluxes[model][2]\n",
    "        array[imod,0,1]=fluxes[model][3]\n",
    "        array[imod,1,1]=fluxes[model][4]\n",
    "        array[imod,2,1]=fluxes[model][5]\n",
    "        array[imod,0,2]=fluxes[model][6]\n",
    "        array[imod,1,2]=fluxes[model][7]\n",
    "        array[imod,2,2]=fluxes[model][8]\n",
    "    return array "
   ]
  },
  {
   "cell_type": "markdown",
   "metadata": {},
   "source": [
    "## Load data and determine which models and variants we have all the data for "
   ]
  },
  {
   "cell_type": "code",
   "execution_count": 9,
   "metadata": {},
   "outputs": [],
   "source": [
    "datestamp=\"14052020\""
   ]
  },
  {
   "cell_type": "code",
   "execution_count": 10,
   "metadata": {},
   "outputs": [],
   "source": [
    "ds = xr.open_dataset(\"data/ecs_timeseries_\"+datestamp+\".nc\")"
   ]
  },
  {
   "cell_type": "code",
   "execution_count": 12,
   "metadata": {},
   "outputs": [],
   "source": [
    "model_variants = list(ds.model_variant.values)"
   ]
  },
  {
   "cell_type": "code",
   "execution_count": 14,
   "metadata": {},
   "outputs": [],
   "source": [
    "ds2 = xr.open_dataset(\"data/otherflux_timeseries_\"+datestamp+\".nc\")"
   ]
  },
  {
   "cell_type": "code",
   "execution_count": 15,
   "metadata": {},
   "outputs": [],
   "source": [
    "vars2 = [var for var in list(ds2.variables) if var not in list(ds2.coords)]"
   ]
  },
  {
   "cell_type": "code",
   "execution_count": 16,
   "metadata": {},
   "outputs": [],
   "source": [
    "### bespoke fix: rldscs has the wrong sign for this variable in one model; fix it\n",
    "i_iitm = list(ds2.model_variant).index(\"IITM-ESM_r1i1p1f1\")"
   ]
  },
  {
   "cell_type": "code",
   "execution_count": 18,
   "metadata": {},
   "outputs": [],
   "source": [
    "ds2.rldscs[i_iitm,:,:] = -1*ds2.rldscs[i_iitm,:,:]"
   ]
  },
  {
   "cell_type": "code",
   "execution_count": 19,
   "metadata": {},
   "outputs": [
    {
     "name": "stdout",
     "output_type": "stream",
     "text": [
      "lacks new variables; getting rid of CAMS-CSM1-0_r1i1p1f1\n",
      "lacks new variables; getting rid of GFDL-ESM4_r1i1p1f1\n",
      "lacks new variables; getting rid of NorESM2-LM_r1i1p1f1\n",
      "lacks new variables; getting rid of NorESM2-MM_r1i1p1f1\n"
     ]
    }
   ],
   "source": [
    "for modvar in model_variants:\n",
    "    if modvar not in list(ds2.model_variant.values):\n",
    "        print(\"lacks new variables; getting rid of \"+modvar)\n",
    "        model_variants.remove(modvar)"
   ]
  },
  {
   "cell_type": "code",
   "execution_count": 20,
   "metadata": {},
   "outputs": [
    {
     "data": {
      "text/plain": [
       "49"
      ]
     },
     "execution_count": 20,
     "metadata": {},
     "output_type": "execute_result"
    }
   ],
   "source": [
    "len(model_variants)"
   ]
  },
  {
   "cell_type": "code",
   "execution_count": 21,
   "metadata": {},
   "outputs": [
    {
     "name": "stdout",
     "output_type": "stream",
     "text": [
      "lacks variables; getting rid of CAMS-CSM1-0_r2i1p1f1\n"
     ]
    }
   ],
   "source": [
    "for modvar in model_variants:\n",
    "    if modvar not in list(ds2.model_variant.values):\n",
    "        print(\"lacks variables; getting rid of \"+modvar)\n",
    "        model_variants.remove(modvar)\n",
    "    else:\n",
    "        modcount=list(ds2.model_variant.values).index(modvar)\n",
    "        for var in vars2:\n",
    "            this_one = ds2[var][modcount,1,:]\n",
    "            if ~(~np.isnan(this_one.values).any()):\n",
    "                print(\"lacks variables; getting rid of \"+modvar)\n",
    "                model_variants.remove(modvar)"
   ]
  },
  {
   "cell_type": "code",
   "execution_count": 22,
   "metadata": {},
   "outputs": [],
   "source": [
    "ds3 = xr.open_dataset(\"data/hfss_timeseries_\"+datestamp+\".nc\")"
   ]
  },
  {
   "cell_type": "code",
   "execution_count": 23,
   "metadata": {},
   "outputs": [
    {
     "name": "stdout",
     "output_type": "stream",
     "text": [
      "lacks new variables; getting rid of FGOALS-g3_r1i1p1f1\n",
      "lacks new variables; getting rid of CESM2-FV2_r1i1p1f1\n"
     ]
    }
   ],
   "source": [
    "for modvar in model_variants:\n",
    "    if modvar not in list(ds3.model_variant.values):\n",
    "        print(\"lacks new variables; getting rid of \"+modvar)\n",
    "        model_variants.remove(modvar)\n",
    "    else:\n",
    "        modcount=list(ds3.model_variant.values).index(modvar)\n",
    "        for var in [\"hfss\"]:\n",
    "            this_one = ds3[var][modcount,1,:]\n",
    "            if ~(~np.isnan(this_one.values).any()):\n",
    "                print(\"lacks new variables; getting rid of \"+modvar)\n",
    "                model_variants.remove(modvar)"
   ]
  },
  {
   "cell_type": "code",
   "execution_count": 24,
   "metadata": {},
   "outputs": [],
   "source": [
    "ds_allvar = xr.merge([ds,ds2,ds3.hfss])"
   ]
  },
  {
   "cell_type": "code",
   "execution_count": 25,
   "metadata": {},
   "outputs": [],
   "source": [
    "model_variants = list(ds_allvar.model_variant.values)"
   ]
  },
  {
   "cell_type": "code",
   "execution_count": 26,
   "metadata": {},
   "outputs": [],
   "source": [
    "## Missing hfss for abrupt-4xCO2\n",
    "modvar=\"CESM2-WACCM-FV2_r1i1p1f1\"\n",
    "model_variants.remove(modvar)"
   ]
  },
  {
   "cell_type": "code",
   "execution_count": 27,
   "metadata": {},
   "outputs": [],
   "source": [
    "# Missing rsldscs\n",
    "model_variants.remove(\"NorESM2-MM_r1i1p1f1\")"
   ]
  },
  {
   "cell_type": "code",
   "execution_count": 28,
   "metadata": {},
   "outputs": [],
   "source": [
    "# Missing something\n",
    "model_variants.remove(\"CAMS-CSM1-0_r2i1p1f1\")"
   ]
  },
  {
   "cell_type": "code",
   "execution_count": 29,
   "metadata": {},
   "outputs": [
    {
     "name": "stdout",
     "output_type": "stream",
     "text": [
      "lacks variables; getting rid of FIO-ESM-2-0_r1i1p1f1\n",
      "lacks variables; getting rid of FIO-ESM-2-0_r3i1p1f1\n",
      "lacks variables; getting rid of MCM-UA-1-0_r1i1p1f1\n"
     ]
    }
   ],
   "source": [
    "for modvar in model_variants:\n",
    "    modcount=list(ds_allvar.model_variant.values).index(modvar)\n",
    "    this_dts = ds_allvar.tas[modcount,1,:]\n",
    "    if ~(~np.isnan(this_dts.values).any()):\n",
    "        print(\"lacks variables; getting rid of \"+modvar)\n",
    "        model_variants.remove(modvar)"
   ]
  },
  {
   "cell_type": "code",
   "execution_count": 30,
   "metadata": {},
   "outputs": [
    {
     "name": "stdout",
     "output_type": "stream",
     "text": [
      "lacks variables; getting rid of CAMS-CSM1-0_r1i1p1f1\n",
      "lacks variables; getting rid of FIO-ESM-2-0_r2i1p1f1\n",
      "lacks variables; getting rid of GFDL-ESM4_r1i1p1f1\n",
      "lacks variables; getting rid of NorESM2-LM_r1i1p1f1\n"
     ]
    }
   ],
   "source": [
    "for modvar in model_variants:\n",
    "    if modvar not in list(ds2.model_variant.values):\n",
    "        print(\"lacks variables; getting rid of \"+modvar)\n",
    "        model_variants.remove(modvar)\n",
    "    else:\n",
    "        modcount=list(ds2.model_variant.values).index(modvar)\n",
    "        for var in vars2:\n",
    "            this_one = ds2[var][modcount,1,:]\n",
    "            if ~(~np.isnan(this_one.values).any()):\n",
    "                print(\"lacks variables; getting rid of \"+modvar)\n",
    "                model_variants.remove(modvar)"
   ]
  },
  {
   "cell_type": "code",
   "execution_count": 31,
   "metadata": {},
   "outputs": [
    {
     "name": "stdout",
     "output_type": "stream",
     "text": [
      "getting rid of CESM2-FV2_r1i1p1f1\n",
      "getting rid of FGOALS-g3_r1i1p1f1\n"
     ]
    }
   ],
   "source": [
    "for modvar in model_variants:\n",
    "    if modvar not in list(ds3.model_variant.values):\n",
    "        print(\"getting rid of \"+modvar)\n",
    "        model_variants.remove(modvar)\n",
    "    else:\n",
    "        modcount=list(ds3.model_variant.values).index(modvar)\n",
    "        for var in [\"hfss\"]:\n",
    "            this_one = ds3[var][modcount,1,:]\n",
    "            if ~(~np.isnan(this_one.values).any()):\n",
    "                print(\"getting rid of \"+modvar)\n",
    "                model_variants.remove(modvar)"
   ]
  },
  {
   "cell_type": "code",
   "execution_count": 32,
   "metadata": {},
   "outputs": [],
   "source": [
    "list_of_models = list([])\n",
    "for modcount,modvar in enumerate(model_variants):\n",
    "    [model,mem] = modvar.split(\"_\")\n",
    "    list_of_models.append(model)"
   ]
  },
  {
   "cell_type": "code",
   "execution_count": 33,
   "metadata": {},
   "outputs": [],
   "source": [
    "indexPosList = {}\n",
    "for model in list(set(list_of_models)):\n",
    "    #print(model)\n",
    "    indexPosList[model] = []\n",
    "    for i in range(len(list_of_models)): \n",
    "        if list_of_models[i] == model:\n",
    "            indexPosList[model].append(i)\n"
   ]
  },
  {
   "cell_type": "code",
   "execution_count": 34,
   "metadata": {},
   "outputs": [],
   "source": [
    "models = list(indexPosList)"
   ]
  },
  {
   "cell_type": "code",
   "execution_count": 35,
   "metadata": {},
   "outputs": [
    {
     "data": {
      "text/plain": [
       "33"
      ]
     },
     "execution_count": 35,
     "metadata": {},
     "output_type": "execute_result"
    }
   ],
   "source": [
    "len(models)"
   ]
  },
  {
   "cell_type": "code",
   "execution_count": 36,
   "metadata": {},
   "outputs": [],
   "source": [
    "models_variants = {}\n",
    "for model in list(models):\n",
    "    models_variants[model] = []\n",
    "    for i in indexPosList[model]:\n",
    "        mem = model_variants[i].split(\"_\")[1]\n",
    "        models_variants[model].append(mem)\n"
   ]
  },
  {
   "cell_type": "code",
   "execution_count": 37,
   "metadata": {},
   "outputs": [
    {
     "data": {
      "text/plain": [
       "{'AWI-CM-1-1-MR': ['r1i1p1f1'],\n",
       " 'ACCESS-CM2': ['r1i1p1f1'],\n",
       " 'MIROC-ES2L': ['r1i1p1f2'],\n",
       " 'INM-CM4-8': ['r1i1p1f1'],\n",
       " 'MPI-ESM1-2-LR': ['r1i1p1f1'],\n",
       " 'GISS-E2-2-G': ['r1i1p1f1'],\n",
       " 'EC-Earth3-Veg': ['r1i1p1f1'],\n",
       " 'GFDL-CM4': ['r1i1p1f1'],\n",
       " 'INM-CM5-0': ['r1i1p1f1'],\n",
       " 'GISS-E2-1-G': ['r102i1p1f1', 'r1i1p1f1', 'r1i1p3f1'],\n",
       " 'HadGEM3-GC31-LL': ['r1i1p1f3'],\n",
       " 'EC-Earth3': ['r8i1p1f1'],\n",
       " 'E3SM-1-0': ['r1i1p1f1'],\n",
       " 'MIROC6': ['r1i1p1f1'],\n",
       " 'CESM2-WACCM': ['r1i1p1f1'],\n",
       " 'CESM2': ['r1i1p1f1'],\n",
       " 'ACCESS-ESM1-5': ['r1i1p1f1'],\n",
       " 'BCC-ESM1': ['r1i1p1f1'],\n",
       " 'UKESM1-0-LL': ['r1i1p1f2'],\n",
       " 'GISS-E2-1-H': ['r1i1p1f1', 'r1i1p3f1'],\n",
       " 'HadGEM3-GC31-MM': ['r1i1p1f3'],\n",
       " 'IPSL-CM6A-LR': ['r1i1p1f1'],\n",
       " 'CanESM5': ['r1i1p1f1', 'r1i1p2f1'],\n",
       " 'CNRM-CM6-1': ['r1i1p1f2'],\n",
       " 'IITM-ESM': ['r1i1p1f1'],\n",
       " 'SAM0-UNICON': ['r1i1p1f1'],\n",
       " 'MPI-ESM1-2-HR': ['r1i1p1f1'],\n",
       " 'BCC-CSM2-MR': ['r1i1p1f1'],\n",
       " 'CNRM-ESM2-1': ['r1i1p1f2', 'r3i1p1f2'],\n",
       " 'NESM3': ['r1i1p1f1'],\n",
       " 'CNRM-CM6-1-HR': ['r1i1p1f2'],\n",
       " 'MRI-ESM2-0': ['r10i1p1f1',\n",
       "  'r13i1p1f1',\n",
       "  'r1i1p1f1',\n",
       "  'r1i2p1f1',\n",
       "  'r4i1p1f1',\n",
       "  'r7i1p1f1'],\n",
       " 'FGOALS-f3-L': ['r1i1p1f1', 'r2i1p1f1', 'r3i1p1f1']}"
      ]
     },
     "execution_count": 37,
     "metadata": {},
     "output_type": "execute_result"
    }
   ],
   "source": [
    "models_variants"
   ]
  },
  {
   "cell_type": "code",
   "execution_count": 38,
   "metadata": {},
   "outputs": [],
   "source": [
    "def calcECS_drift_fromtimeseries(dts,dN):\n",
    "    \n",
    "    slope, intercept, r_value, p_value, std_err = stats.linregress(dts,dN)\n",
    "    ECS = -intercept / slope\n",
    "\n",
    "    return ECS,intercept\n",
    "            "
   ]
  },
  {
   "cell_type": "code",
   "execution_count": 39,
   "metadata": {},
   "outputs": [],
   "source": [
    "def get_pi_mean(ds_modvariant_variable):\n",
    " \n",
    "    y_pi_annual = ds_modvariant_variable.sel(experiment=(\"piControl\"))\n",
    "    y_4x_annual = ds_modvariant_variable.sel(experiment=(\"abrupt_4xCO2\")) \n",
    "\n",
    "    x = range(len(y_4x_annual))\n",
    "    model = modvar.split(\"_\")[0]\n",
    "    x = range(len(y_4x_annual))\n",
    "    if model==\"EC-Earth3\" or model==\"IITM-ESM\":\n",
    "        print(\"fix for EC-Earth3, and IITM-ESM - branch is before piControl data starts. estimate trend from the end\")\n",
    "        print(\"current model: \"+model)\n",
    "        y_pi_annual_nan = y_pi_annual.dropna(dim=\"time\")\n",
    "        x_pi = x[(len(x)-len(y_pi_annual_nan)):]\n",
    "    else: \n",
    "        x_pi = x\n",
    "        y_pi_annual_nan = y_pi_annual\n",
    "    \n",
    "    y_pi_annual_nan = y_pi_annual_nan.drop(\"experiment\")\n",
    "    \n",
    "    y = y_pi_annual_nan.mean(dim=\"time\")\n",
    "    return y"
   ]
  },
  {
   "cell_type": "code",
   "execution_count": 40,
   "metadata": {},
   "outputs": [
    {
     "name": "stdout",
     "output_type": "stream",
     "text": [
      "ACCESS-CM2_r1i1p1f1\n",
      "ACCESS-ESM1-5_r1i1p1f1\n",
      "AWI-CM-1-1-MR_r1i1p1f1\n",
      "BCC-CSM2-MR_r1i1p1f1\n",
      "BCC-ESM1_r1i1p1f1\n",
      "CESM2-WACCM_r1i1p1f1\n",
      "CESM2_r1i1p1f1\n",
      "CNRM-CM6-1-HR_r1i1p1f2\n",
      "CNRM-CM6-1_r1i1p1f2\n",
      "CNRM-ESM2-1_r1i1p1f2\n",
      "CNRM-ESM2-1_r3i1p1f2\n",
      "CanESM5_r1i1p1f1\n",
      "CanESM5_r1i1p2f1\n",
      "E3SM-1-0_r1i1p1f1\n",
      "EC-Earth3-Veg_r1i1p1f1\n",
      "EC-Earth3_r8i1p1f1\n",
      "fix for EC-Earth3, and IITM-ESM - branch is before piControl data starts. estimate trend from the end\n",
      "current model: EC-Earth3\n",
      "FGOALS-f3-L_r1i1p1f1\n",
      "FGOALS-f3-L_r2i1p1f1\n",
      "FGOALS-f3-L_r3i1p1f1\n",
      "GFDL-CM4_r1i1p1f1\n",
      "GISS-E2-1-G_r102i1p1f1\n",
      "GISS-E2-1-G_r1i1p1f1\n",
      "GISS-E2-1-G_r1i1p3f1\n",
      "GISS-E2-1-H_r1i1p1f1\n",
      "GISS-E2-1-H_r1i1p3f1\n",
      "GISS-E2-2-G_r1i1p1f1\n",
      "HadGEM3-GC31-LL_r1i1p1f3\n",
      "HadGEM3-GC31-MM_r1i1p1f3\n",
      "IITM-ESM_r1i1p1f1\n",
      "fix for EC-Earth3, and IITM-ESM - branch is before piControl data starts. estimate trend from the end\n",
      "current model: IITM-ESM\n",
      "INM-CM4-8_r1i1p1f1\n",
      "INM-CM5-0_r1i1p1f1\n",
      "IPSL-CM6A-LR_r1i1p1f1\n",
      "MIROC-ES2L_r1i1p1f2\n",
      "MIROC6_r1i1p1f1\n",
      "MPI-ESM1-2-HR_r1i1p1f1\n",
      "MPI-ESM1-2-LR_r1i1p1f1\n",
      "MRI-ESM2-0_r10i1p1f1\n",
      "MRI-ESM2-0_r13i1p1f1\n",
      "MRI-ESM2-0_r1i1p1f1\n",
      "MRI-ESM2-0_r1i2p1f1\n",
      "MRI-ESM2-0_r4i1p1f1\n",
      "MRI-ESM2-0_r7i1p1f1\n",
      "NESM3_r1i1p1f1\n",
      "SAM0-UNICON_r1i1p1f1\n",
      "UKESM1-0-LL_r1i1p1f2\n"
     ]
    }
   ],
   "source": [
    "pr_pi = xr.Dataset()\n",
    "\n",
    "for modvar in list(model_variants):\n",
    "    print(modvar)\n",
    "    thismodel = ds_allvar.sel(model_variant=(modvar))\n",
    "    this_pi = get_pi_mean(thismodel.pr)\n",
    "    if not list(pr_pi.variables) == []:\n",
    "        pr_pi = xr.concat([pr_pi,this_pi.to_dataset()],dim=\"model_variant\")\n",
    "    else:\n",
    "        pr_pi = this_pi.to_dataset()\n"
   ]
  },
  {
   "cell_type": "code",
   "execution_count": 41,
   "metadata": {},
   "outputs": [
    {
     "name": "stdout",
     "output_type": "stream",
     "text": [
      "ACCESS-CM2_r1i1p1f1\n",
      "ACCESS-ESM1-5_r1i1p1f1\n",
      "AWI-CM-1-1-MR_r1i1p1f1\n",
      "BCC-CSM2-MR_r1i1p1f1\n",
      "BCC-ESM1_r1i1p1f1\n",
      "CESM2-WACCM_r1i1p1f1\n",
      "CESM2_r1i1p1f1\n",
      "CNRM-CM6-1-HR_r1i1p1f2\n",
      "CNRM-CM6-1_r1i1p1f2\n",
      "CNRM-ESM2-1_r1i1p1f2\n",
      "CNRM-ESM2-1_r3i1p1f2\n",
      "CanESM5_r1i1p1f1\n",
      "CanESM5_r1i1p2f1\n",
      "E3SM-1-0_r1i1p1f1\n",
      "EC-Earth3-Veg_r1i1p1f1\n",
      "EC-Earth3_r8i1p1f1\n",
      "fix for EC-Earth3, and IITM-ESM - branch is before piControl data starts. estimate trend from the end\n",
      "current model: EC-Earth3\n",
      "FGOALS-f3-L_r1i1p1f1\n",
      "FGOALS-f3-L_r2i1p1f1\n",
      "FGOALS-f3-L_r3i1p1f1\n",
      "GFDL-CM4_r1i1p1f1\n",
      "GISS-E2-1-G_r102i1p1f1\n",
      "GISS-E2-1-G_r1i1p1f1\n",
      "GISS-E2-1-G_r1i1p3f1\n",
      "GISS-E2-1-H_r1i1p1f1\n",
      "GISS-E2-1-H_r1i1p3f1\n",
      "GISS-E2-2-G_r1i1p1f1\n",
      "HadGEM3-GC31-LL_r1i1p1f3\n",
      "HadGEM3-GC31-MM_r1i1p1f3\n",
      "IITM-ESM_r1i1p1f1\n",
      "fix for EC-Earth3, and IITM-ESM - branch is before piControl data starts. estimate trend from the end\n",
      "current model: IITM-ESM\n",
      "INM-CM4-8_r1i1p1f1\n",
      "INM-CM5-0_r1i1p1f1\n",
      "IPSL-CM6A-LR_r1i1p1f1\n",
      "MIROC-ES2L_r1i1p1f2\n",
      "MIROC6_r1i1p1f1\n",
      "MPI-ESM1-2-HR_r1i1p1f1\n",
      "MPI-ESM1-2-LR_r1i1p1f1\n",
      "MRI-ESM2-0_r10i1p1f1\n",
      "MRI-ESM2-0_r13i1p1f1\n",
      "MRI-ESM2-0_r1i1p1f1\n",
      "MRI-ESM2-0_r1i2p1f1\n",
      "MRI-ESM2-0_r4i1p1f1\n",
      "MRI-ESM2-0_r7i1p1f1\n",
      "NESM3_r1i1p1f1\n",
      "SAM0-UNICON_r1i1p1f1\n",
      "UKESM1-0-LL_r1i1p1f2\n"
     ]
    }
   ],
   "source": [
    "pr_dedrifted = xr.Dataset()\n",
    "\n",
    "for modvar in list(model_variants):\n",
    "    print(modvar)\n",
    "    try:\n",
    "        thismodel = ds_allvar.sel(model_variant=(modvar))\n",
    "        this_dedrifted = remove_drift(thismodel.pr)\n",
    "        if not list(pr_dedrifted.variables) == []:\n",
    "            pr_dedrifted = xr.concat([pr_dedrifted,this_dedrifted.to_dataset()],dim=\"model_variant\")\n",
    "        else:\n",
    "            pr_dedrifted = this_dedrifted.to_dataset()\n",
    "    except:\n",
    "        print(\"  skipped \" +modvar)"
   ]
  },
  {
   "cell_type": "code",
   "execution_count": 42,
   "metadata": {},
   "outputs": [
    {
     "name": "stdout",
     "output_type": "stream",
     "text": [
      "ACCESS-CM2_r1i1p1f1\n",
      "ACCESS-ESM1-5_r1i1p1f1\n",
      "AWI-CM-1-1-MR_r1i1p1f1\n",
      "BCC-CSM2-MR_r1i1p1f1\n",
      "BCC-ESM1_r1i1p1f1\n",
      "CESM2-WACCM_r1i1p1f1\n",
      "CESM2_r1i1p1f1\n",
      "CNRM-CM6-1-HR_r1i1p1f2\n",
      "CNRM-CM6-1_r1i1p1f2\n",
      "CNRM-ESM2-1_r1i1p1f2\n",
      "CNRM-ESM2-1_r3i1p1f2\n",
      "CanESM5_r1i1p1f1\n",
      "CanESM5_r1i1p2f1\n",
      "E3SM-1-0_r1i1p1f1\n",
      "EC-Earth3-Veg_r1i1p1f1\n",
      "EC-Earth3_r8i1p1f1\n",
      "fix for EC-Earth3, and IITM-ESM - branch is before piControl data starts. estimate trend from the end\n",
      "current model: EC-Earth3\n",
      "fix for EC-Earth3, and IITM-ESM - branch is before piControl data starts. estimate trend from the end\n",
      "current model: EC-Earth3\n",
      "FGOALS-f3-L_r1i1p1f1\n",
      "FGOALS-f3-L_r2i1p1f1\n",
      "FGOALS-f3-L_r3i1p1f1\n",
      "GFDL-CM4_r1i1p1f1\n",
      "GISS-E2-1-G_r102i1p1f1\n",
      "GISS-E2-1-G_r1i1p1f1\n",
      "GISS-E2-1-G_r1i1p3f1\n",
      "GISS-E2-1-H_r1i1p1f1\n",
      "GISS-E2-1-H_r1i1p3f1\n",
      "GISS-E2-2-G_r1i1p1f1\n",
      "HadGEM3-GC31-LL_r1i1p1f3\n",
      "HadGEM3-GC31-MM_r1i1p1f3\n",
      "IITM-ESM_r1i1p1f1\n",
      "fix for EC-Earth3, and IITM-ESM - branch is before piControl data starts. estimate trend from the end\n",
      "current model: IITM-ESM\n",
      "fix for EC-Earth3, and IITM-ESM - branch is before piControl data starts. estimate trend from the end\n",
      "current model: IITM-ESM\n",
      "INM-CM4-8_r1i1p1f1\n",
      "INM-CM5-0_r1i1p1f1\n",
      "IPSL-CM6A-LR_r1i1p1f1\n",
      "MIROC-ES2L_r1i1p1f2\n",
      "MIROC6_r1i1p1f1\n",
      "MPI-ESM1-2-HR_r1i1p1f1\n",
      "MPI-ESM1-2-LR_r1i1p1f1\n",
      "MRI-ESM2-0_r10i1p1f1\n",
      "MRI-ESM2-0_r13i1p1f1\n",
      "MRI-ESM2-0_r1i1p1f1\n",
      "MRI-ESM2-0_r1i2p1f1\n",
      "MRI-ESM2-0_r4i1p1f1\n",
      "MRI-ESM2-0_r7i1p1f1\n",
      "NESM3_r1i1p1f1\n",
      "SAM0-UNICON_r1i1p1f1\n",
      "UKESM1-0-LL_r1i1p1f2\n"
     ]
    }
   ],
   "source": [
    "ds_dedrifted = xr.Dataset()\n",
    "\n",
    "for modvar in list(model_variants):\n",
    "    print(modvar)\n",
    "    try:\n",
    "        thismodel = ds_allvar.sel(model_variant=(modvar))\n",
    "        dedrifted_tas = remove_drift(thismodel.tas)\n",
    "        dedrifted_N = remove_drift(thismodel.rsdt - thismodel.rsut - thismodel.rlut)\n",
    "        dedrifted_N = dedrifted_N.rename(\"dN\")\n",
    "        this_dedrifted = xr.merge([dedrifted_tas,dedrifted_N])\n",
    "        if not list(ds_dedrifted.variables) == []:\n",
    "            ds_dedrifted = xr.concat([ds_dedrifted,this_dedrifted],dim=\"model_variant\")\n",
    "        else:\n",
    "            ds_dedrifted = this_dedrifted\n",
    "    except:\n",
    "        print(\"  skipped \" +modvar)\n",
    "        \n",
    "    "
   ]
  },
  {
   "cell_type": "code",
   "execution_count": 43,
   "metadata": {},
   "outputs": [
    {
     "name": "stdout",
     "output_type": "stream",
     "text": [
      "AWI-CM-1-1-MR, r3i1p1f1\n",
      " \n",
      "ACCESS-CM2, r3i1p1f1\n",
      " \n",
      "MIROC-ES2L, r3i1p1f1\n",
      " \n",
      "INM-CM4-8, r3i1p1f1\n",
      " \n",
      "MPI-ESM1-2-LR, r3i1p1f1\n",
      " \n",
      "GISS-E2-2-G, r3i1p1f1\n",
      " \n",
      "EC-Earth3-Veg, r3i1p1f1\n",
      " \n",
      "GFDL-CM4, r3i1p1f1\n",
      " \n",
      "INM-CM5-0, r3i1p1f1\n",
      " \n",
      "GISS-E2-1-G, r3i1p1f1\n",
      " \n",
      "HadGEM3-GC31-LL, r3i1p1f1\n",
      " \n",
      "EC-Earth3, r3i1p1f1\n",
      " \n",
      "E3SM-1-0, r3i1p1f1\n",
      " \n",
      "MIROC6, r3i1p1f1\n",
      " \n",
      "CESM2-WACCM, r3i1p1f1\n",
      " \n",
      "CESM2, r3i1p1f1\n",
      " \n",
      "ACCESS-ESM1-5, r3i1p1f1\n",
      " \n",
      "BCC-ESM1, r3i1p1f1\n",
      " \n",
      "UKESM1-0-LL, r3i1p1f1\n",
      " \n",
      "GISS-E2-1-H, r3i1p1f1\n",
      " \n",
      "HadGEM3-GC31-MM, r3i1p1f1\n",
      " \n",
      "IPSL-CM6A-LR, r3i1p1f1\n",
      " \n",
      "CanESM5, r3i1p1f1\n",
      " \n",
      "CNRM-CM6-1, r3i1p1f1\n",
      " \n",
      "IITM-ESM, r3i1p1f1\n",
      " \n",
      "SAM0-UNICON, r3i1p1f1\n",
      " \n",
      "MPI-ESM1-2-HR, r3i1p1f1\n",
      " \n",
      "BCC-CSM2-MR, r3i1p1f1\n",
      " \n",
      "CNRM-ESM2-1, r3i1p1f1\n",
      " \n",
      "NESM3, r3i1p1f1\n",
      " \n",
      "CNRM-CM6-1-HR, r3i1p1f1\n",
      " \n",
      "MRI-ESM2-0, r3i1p1f1\n",
      " \n",
      "FGOALS-f3-L, r3i1p1f1\n",
      " \n"
     ]
    }
   ],
   "source": [
    "FECS={} ## Forcing and ECS values\n",
    "for model in list(models):\n",
    "    print(model+\", \"+mem)\n",
    "    print(\" \")\n",
    "    this_dts = ds_dedrifted.tas.isel(model_variant=indexPosList[model]).mean(\"model_variant\")\n",
    "    this_dN = ds_dedrifted.dN.isel(model_variant=indexPosList[model]).mean(\"model_variant\")\n",
    "    thisECS,F = calcECS_drift_fromtimeseries(this_dts,this_dN)\n",
    "    theoutputs = [thisECS,F]\n",
    "    outputs = np.array(theoutputs)\n",
    "    FECS[model] = outputs\n"
   ]
  },
  {
   "cell_type": "code",
   "execution_count": 45,
   "metadata": {},
   "outputs": [],
   "source": [
    "L = 2.5e6 # Latent heat of vaporization of water"
   ]
  },
  {
   "cell_type": "code",
   "execution_count": 46,
   "metadata": {},
   "outputs": [
    {
     "name": "stdout",
     "output_type": "stream",
     "text": [
      "AWI-CM-1-1-MR, r3i1p1f1\n",
      " \n",
      "ACCESS-CM2, r3i1p1f1\n",
      " \n",
      "MIROC-ES2L, r3i1p1f1\n",
      " \n",
      "INM-CM4-8, r3i1p1f1\n",
      " \n",
      "MPI-ESM1-2-LR, r3i1p1f1\n",
      " \n",
      "GISS-E2-2-G, r3i1p1f1\n",
      " \n",
      "EC-Earth3-Veg, r3i1p1f1\n",
      " \n",
      "GFDL-CM4, r3i1p1f1\n",
      " \n",
      "INM-CM5-0, r3i1p1f1\n",
      " \n",
      "GISS-E2-1-G, r3i1p1f1\n",
      " \n",
      "HadGEM3-GC31-LL, r3i1p1f1\n",
      " \n",
      "EC-Earth3, r3i1p1f1\n",
      " \n",
      "E3SM-1-0, r3i1p1f1\n",
      " \n",
      "MIROC6, r3i1p1f1\n",
      " \n",
      "CESM2-WACCM, r3i1p1f1\n",
      " \n",
      "CESM2, r3i1p1f1\n",
      " \n",
      "ACCESS-ESM1-5, r3i1p1f1\n",
      " \n",
      "BCC-ESM1, r3i1p1f1\n",
      " \n",
      "UKESM1-0-LL, r3i1p1f1\n",
      " \n",
      "GISS-E2-1-H, r3i1p1f1\n",
      " \n",
      "HadGEM3-GC31-MM, r3i1p1f1\n",
      " \n",
      "IPSL-CM6A-LR, r3i1p1f1\n",
      " \n",
      "CanESM5, r3i1p1f1\n",
      " \n",
      "CNRM-CM6-1, r3i1p1f1\n",
      " \n",
      "IITM-ESM, r3i1p1f1\n",
      " \n",
      "SAM0-UNICON, r3i1p1f1\n",
      " \n",
      "MPI-ESM1-2-HR, r3i1p1f1\n",
      " \n",
      "BCC-CSM2-MR, r3i1p1f1\n",
      " \n",
      "CNRM-ESM2-1, r3i1p1f1\n",
      " \n",
      "NESM3, r3i1p1f1\n",
      " \n",
      "CNRM-CM6-1-HR, r3i1p1f1\n",
      " \n",
      "MRI-ESM2-0, r3i1p1f1\n",
      " \n",
      "FGOALS-f3-L, r3i1p1f1\n",
      " \n"
     ]
    }
   ],
   "source": [
    "dpdTrel ={} # Relative HS\n",
    "Ppi ={}     # Mean P in pre-industrial control\n",
    "\n",
    "for model in list(models):\n",
    "    print(model+\", \"+mem)\n",
    "    print(\" \")\n",
    "    this_dts = ds_dedrifted.tas.isel(model_variant=indexPosList[model]).mean(\"model_variant\")\n",
    "    this_pr_pi = pr_pi.pr.isel(model_variant=indexPosList[model]).mean(\"model_variant\")\n",
    "    this_dpr_abs = pr_dedrifted.pr.isel(model_variant=indexPosList[model]).mean(\"model_variant\")\n",
    "    dp_d, intercept_d, r_value, p_value, std_err = stats.linregress(this_dts,this_dpr_abs/this_pr_pi)\n",
    "    dpdTrel[model] = dp_d\n",
    "    Ppi[model] = this_pr_pi.values*L\n"
   ]
  },
  {
   "cell_type": "code",
   "execution_count": 48,
   "metadata": {},
   "outputs": [
    {
     "name": "stdout",
     "output_type": "stream",
     "text": [
      "AWI-CM-1-1-MR, r3i1p1f1\n",
      "ACCESS-CM2, r3i1p1f1\n",
      "MIROC-ES2L, r3i1p1f1\n",
      "INM-CM4-8, r3i1p1f1\n",
      "MPI-ESM1-2-LR, r3i1p1f1\n",
      "GISS-E2-2-G, r3i1p1f1\n",
      "EC-Earth3-Veg, r3i1p1f1\n",
      "GFDL-CM4, r3i1p1f1\n",
      "INM-CM5-0, r3i1p1f1\n",
      "GISS-E2-1-G, r3i1p1f1\n",
      "HadGEM3-GC31-LL, r3i1p1f1\n",
      "EC-Earth3, r3i1p1f1\n",
      "E3SM-1-0, r3i1p1f1\n",
      "MIROC6, r3i1p1f1\n",
      "CESM2-WACCM, r3i1p1f1\n",
      "CESM2, r3i1p1f1\n",
      "ACCESS-ESM1-5, r3i1p1f1\n",
      "BCC-ESM1, r3i1p1f1\n",
      "UKESM1-0-LL, r3i1p1f1\n",
      "GISS-E2-1-H, r3i1p1f1\n",
      "HadGEM3-GC31-MM, r3i1p1f1\n",
      "IPSL-CM6A-LR, r3i1p1f1\n",
      "CanESM5, r3i1p1f1\n",
      "CNRM-CM6-1, r3i1p1f1\n",
      "IITM-ESM, r3i1p1f1\n",
      "SAM0-UNICON, r3i1p1f1\n",
      "MPI-ESM1-2-HR, r3i1p1f1\n",
      "BCC-CSM2-MR, r3i1p1f1\n",
      "CNRM-ESM2-1, r3i1p1f1\n",
      "NESM3, r3i1p1f1\n",
      "CNRM-CM6-1-HR, r3i1p1f1\n",
      "MRI-ESM2-0, r3i1p1f1\n",
      "FGOALS-f3-L, r3i1p1f1\n"
     ]
    }
   ],
   "source": [
    "dpdTabs={} # Absolute HS\n",
    "\n",
    "for model in list(models):\n",
    "    print(model+\", \"+mem)\n",
    "    this_dts = ds_dedrifted.tas.isel(model_variant=indexPosList[model]).mean(\"model_variant\")\n",
    "    this_dpr_abs = pr_dedrifted.pr.isel(model_variant=indexPosList[model]).mean(\"model_variant\")*L\n",
    "    dp_d, intercept_d, r_value, p_value, std_err = stats.linregress(this_dts,this_dpr_abs)\n",
    "    dpdTabs[model] = dp_d\n",
    "\n"
   ]
  },
  {
   "cell_type": "code",
   "execution_count": 49,
   "metadata": {},
   "outputs": [],
   "source": [
    "# Sort models by absolute HS\n",
    "\n",
    "dp_abs_test = np.array([]) \n",
    "\n",
    "for model in models:\n",
    "    dp_abs_test = np.append(dp_abs_test,dpdTabs[model])\n",
    "\n",
    "models = list(indexPosList)\n",
    "models_sorted = [models[i] for i in np.argsort(dp_abs_test)]\n",
    "models = models_sorted"
   ]
  },
  {
   "cell_type": "code",
   "execution_count": 50,
   "metadata": {},
   "outputs": [],
   "source": [
    "ecs = np.array([]) \n",
    "dp_abs = np.array([]) \n",
    "dp_rel = np.array([]) \n",
    "p = np.array([]) \n",
    "\n",
    "\n",
    "for model in models:\n",
    "    ecs = np.append(ecs,FECS[model][0])\n",
    "    dp_abs = np.append(dp_abs,dpdTabs[model])\n",
    "    dp_rel = np.append(dp_rel,dpdTrel[model]*100)\n",
    "    p = np.append(p,Ppi[model])\n"
   ]
  },
  {
   "cell_type": "code",
   "execution_count": 51,
   "metadata": {},
   "outputs": [
    {
     "data": {
      "text/plain": [
       "array([ 6.32647835,  9.54392088,  7.77668654,  6.00394753,  5.95091286,\n",
       "        5.31415263,  6.2428352 ,  9.45883301,  9.65820851,  8.61062636,\n",
       "        9.11666934,  4.82490858,  8.43789669,  5.21394518, 10.63092272,\n",
       "        8.56744108,  6.51901861, 11.23850525, 10.35471027,  9.39077106,\n",
       "        6.0838096 , 10.83405388,  7.74036102,  6.60963442, 11.09220129,\n",
       "        5.34903215,  9.43757201,  6.0307738 ,  4.74006061, 10.67379764,\n",
       "        3.6590103 ,  7.43372756,  3.83148617])"
      ]
     },
     "execution_count": 51,
     "metadata": {},
     "output_type": "execute_result"
    }
   ],
   "source": [
    "ecs"
   ]
  },
  {
   "cell_type": "code",
   "execution_count": 52,
   "metadata": {},
   "outputs": [
    {
     "data": {
      "text/plain": [
       "array([1.74636571, 1.77797096, 1.81585654, 1.8387528 , 1.88399767,\n",
       "       1.93115964, 1.94085603, 1.96337917, 1.99039501, 2.01573086,\n",
       "       2.04546222, 2.05732789, 2.06493262, 2.07243188, 2.07826147,\n",
       "       2.09501106, 2.09699679, 2.13249269, 2.18854336, 2.20277507,\n",
       "       2.22352842, 2.24526806, 2.24804932, 2.27515904, 2.29380514,\n",
       "       2.34382685, 2.36531754, 2.36998592, 2.45985977, 2.46864632,\n",
       "       2.58174933, 2.65192337, 2.66384535])"
      ]
     },
     "execution_count": 52,
     "metadata": {},
     "output_type": "execute_result"
    }
   ],
   "source": [
    "dp_abs"
   ]
  },
  {
   "cell_type": "code",
   "execution_count": 53,
   "metadata": {},
   "outputs": [
    {
     "data": {
      "text/plain": [
       "array([2.08641746, 2.09818423, 2.16274516, 2.24177983, 2.25248261,\n",
       "       2.24209274, 2.24616947, 2.37572246, 2.37357765, 2.42996234,\n",
       "       2.36826916, 2.54465864, 2.48003448, 2.2562988 , 2.33285659,\n",
       "       2.49110974, 2.59487743, 2.58351216, 2.56996857, 2.60917749,\n",
       "       2.63255773, 2.46102785, 2.41658916, 2.61675929, 2.53360053,\n",
       "       2.53429194, 2.60798311, 2.88692812, 2.95958669, 2.7631406 ,\n",
       "       2.97399339, 3.01936688, 3.07439004])"
      ]
     },
     "execution_count": 53,
     "metadata": {},
     "output_type": "execute_result"
    }
   ],
   "source": [
    "dp_rel"
   ]
  },
  {
   "cell_type": "code",
   "execution_count": 54,
   "metadata": {},
   "outputs": [
    {
     "data": {
      "text/plain": [
       "{'AWI-CM-1-1-MR': 1.7463657113935216,\n",
       " 'ACCESS-CM2': 2.3653175389445122,\n",
       " 'MIROC-ES2L': 2.343826850848826,\n",
       " 'INM-CM4-8': 2.5817493279556447,\n",
       " 'MPI-ESM1-2-LR': 1.838752795822271,\n",
       " 'GISS-E2-2-G': 2.057327886255939,\n",
       " 'EC-Earth3-Veg': 2.0157308622457117,\n",
       " 'GFDL-CM4': 1.8158565359363832,\n",
       " 'INM-CM5-0': 2.6638453483960465,\n",
       " 'GISS-E2-1-G': 1.9311596416807135,\n",
       " 'HadGEM3-GC31-LL': 2.293805142585615,\n",
       " 'EC-Earth3': 2.064932623021558,\n",
       " 'E3SM-1-0': 2.0782614723852877,\n",
       " 'MIROC6': 2.07243187546322,\n",
       " 'CESM2-WACCM': 2.202775066536873,\n",
       " 'CESM2': 2.1885433637993152,\n",
       " 'ACCESS-ESM1-5': 2.2480493234484613,\n",
       " 'BCC-ESM1': 2.0969967937520964,\n",
       " 'UKESM1-0-LL': 2.4686463174689255,\n",
       " 'GISS-E2-1-H': 1.9408560255321112,\n",
       " 'HadGEM3-GC31-MM': 2.245268059952362,\n",
       " 'IPSL-CM6A-LR': 2.045462219850906,\n",
       " 'CanESM5': 2.1324926944030995,\n",
       " 'CNRM-CM6-1': 1.9903950115308355,\n",
       " 'IITM-ESM': 2.4598597682974592,\n",
       " 'SAM0-UNICON': 2.651923372348264,\n",
       " 'MPI-ESM1-2-HR': 1.8839976650879522,\n",
       " 'BCC-CSM2-MR': 2.2235284202106387,\n",
       " 'CNRM-ESM2-1': 1.7779709597899038,\n",
       " 'NESM3': 1.963379168362838,\n",
       " 'CNRM-CM6-1-HR': 2.095011057079409,\n",
       " 'MRI-ESM2-0': 2.275159035812623,\n",
       " 'FGOALS-f3-L': 2.369985915543173}"
      ]
     },
     "execution_count": 54,
     "metadata": {},
     "output_type": "execute_result"
    }
   ],
   "source": [
    "dpdTabs"
   ]
  },
  {
   "cell_type": "code",
   "execution_count": 55,
   "metadata": {},
   "outputs": [],
   "source": [
    "list_of_variants = list([])\n",
    "for modcount,modvar in enumerate(model_variants):\n",
    "    [model,mem] = modvar.split(\"_\")\n",
    "    list_of_variants.append(mem)"
   ]
  },
  {
   "cell_type": "code",
   "execution_count": 56,
   "metadata": {},
   "outputs": [],
   "source": [
    "models_variants = {}\n",
    "for model in models:\n",
    "    models_variants[model] = [list_of_variants[i] for i in indexPosList[model]] "
   ]
  },
  {
   "cell_type": "code",
   "execution_count": 57,
   "metadata": {},
   "outputs": [
    {
     "data": {
      "text/plain": [
       "33"
      ]
     },
     "execution_count": 57,
     "metadata": {},
     "output_type": "execute_result"
    }
   ],
   "source": [
    "len(models_variants)"
   ]
  },
  {
   "cell_type": "markdown",
   "metadata": {},
   "source": [
    "### Sensible heat flux"
   ]
  },
  {
   "cell_type": "code",
   "execution_count": 58,
   "metadata": {},
   "outputs": [
    {
     "name": "stdout",
     "output_type": "stream",
     "text": [
      "ACCESS-CM2_r1i1p1f1\n",
      "ACCESS-ESM1-5_r1i1p1f1\n",
      "AWI-CM-1-1-MR_r1i1p1f1\n",
      "BCC-CSM2-MR_r1i1p1f1\n",
      "BCC-ESM1_r1i1p1f1\n",
      "CESM2-WACCM_r1i1p1f1\n",
      "CESM2_r1i1p1f1\n",
      "CNRM-CM6-1-HR_r1i1p1f2\n",
      "CNRM-CM6-1_r1i1p1f2\n",
      "CNRM-ESM2-1_r1i1p1f2\n",
      "CNRM-ESM2-1_r3i1p1f2\n",
      "CanESM5_r1i1p1f1\n",
      "CanESM5_r1i1p2f1\n",
      "E3SM-1-0_r1i1p1f1\n",
      "EC-Earth3-Veg_r1i1p1f1\n",
      "EC-Earth3_r8i1p1f1\n",
      "fix for EC-Earth3, and IITM-ESM - branch is before piControl data starts. estimate trend from the end\n",
      "current model: EC-Earth3\n",
      "FGOALS-f3-L_r1i1p1f1\n",
      "FGOALS-f3-L_r2i1p1f1\n",
      "FGOALS-f3-L_r3i1p1f1\n",
      "GFDL-CM4_r1i1p1f1\n",
      "GISS-E2-1-G_r102i1p1f1\n",
      "GISS-E2-1-G_r1i1p1f1\n",
      "GISS-E2-1-G_r1i1p3f1\n",
      "GISS-E2-1-H_r1i1p1f1\n",
      "GISS-E2-1-H_r1i1p3f1\n",
      "GISS-E2-2-G_r1i1p1f1\n",
      "HadGEM3-GC31-LL_r1i1p1f3\n",
      "HadGEM3-GC31-MM_r1i1p1f3\n",
      "IITM-ESM_r1i1p1f1\n",
      "fix for EC-Earth3, and IITM-ESM - branch is before piControl data starts. estimate trend from the end\n",
      "current model: IITM-ESM\n",
      "INM-CM4-8_r1i1p1f1\n",
      "INM-CM5-0_r1i1p1f1\n",
      "IPSL-CM6A-LR_r1i1p1f1\n",
      "MIROC-ES2L_r1i1p1f2\n",
      "MIROC6_r1i1p1f1\n",
      "MPI-ESM1-2-HR_r1i1p1f1\n",
      "MPI-ESM1-2-LR_r1i1p1f1\n",
      "MRI-ESM2-0_r10i1p1f1\n",
      "MRI-ESM2-0_r13i1p1f1\n",
      "MRI-ESM2-0_r1i1p1f1\n",
      "MRI-ESM2-0_r1i2p1f1\n",
      "MRI-ESM2-0_r4i1p1f1\n",
      "MRI-ESM2-0_r7i1p1f1\n",
      "NESM3_r1i1p1f1\n",
      "SAM0-UNICON_r1i1p1f1\n",
      "UKESM1-0-LL_r1i1p1f2\n"
     ]
    }
   ],
   "source": [
    "hfss_dedrifted = xr.Dataset()\n",
    "\n",
    "for modvar in list(model_variants):\n",
    "    print(modvar)\n",
    "    try:\n",
    "        thismodel = ds_allvar.sel(model_variant=(modvar))\n",
    "        this_dedrifted = remove_drift(thismodel.hfss)\n",
    "        #this_dedrifted.assign_attrs({\"piControl\":y.values})\n",
    "        #this_dedrifted = xr.DataSet(dedrifted_hfss)\n",
    "        if not list(hfss_dedrifted.variables) == []:\n",
    "            hfss_dedrifted = xr.concat([hfss_dedrifted,this_dedrifted.to_dataset()],dim=\"model_variant\")\n",
    "        else:\n",
    "            hfss_dedrifted = this_dedrifted.to_dataset()\n",
    "    except:\n",
    "        print(\"  skipped \" +modvar)"
   ]
  },
  {
   "cell_type": "code",
   "execution_count": 59,
   "metadata": {},
   "outputs": [
    {
     "name": "stdout",
     "output_type": "stream",
     "text": [
      "AWI-CM-1-1-MR\n",
      "CNRM-ESM2-1\n",
      "GFDL-CM4\n",
      "MPI-ESM1-2-LR\n",
      "MPI-ESM1-2-HR\n",
      "GISS-E2-1-G\n",
      "GISS-E2-1-H\n",
      "NESM3\n",
      "CNRM-CM6-1\n",
      "EC-Earth3-Veg\n",
      "IPSL-CM6A-LR\n",
      "GISS-E2-2-G\n",
      "EC-Earth3\n",
      "MIROC6\n",
      "E3SM-1-0\n",
      "CNRM-CM6-1-HR\n",
      "BCC-ESM1\n",
      "CanESM5\n",
      "CESM2\n",
      "CESM2-WACCM\n",
      "BCC-CSM2-MR\n",
      "HadGEM3-GC31-MM\n",
      "ACCESS-ESM1-5\n",
      "MRI-ESM2-0\n",
      "HadGEM3-GC31-LL\n",
      "MIROC-ES2L\n",
      "ACCESS-CM2\n",
      "FGOALS-f3-L\n",
      "IITM-ESM\n",
      "UKESM1-0-LL\n",
      "INM-CM4-8\n",
      "SAM0-UNICON\n",
      "INM-CM5-0\n"
     ]
    }
   ],
   "source": [
    "SHF={}\n",
    "\n",
    "for model in list(models):\n",
    "    print(model)\n",
    "    this_dts = ds_dedrifted.tas.isel(model_variant=indexPosList[model]).mean(\"model_variant\")\n",
    "    this_shf = hfss_dedrifted.hfss.isel(model_variant=indexPosList[model]).mean(\"model_variant\")\n",
    "    dshf_d, intercept_d, r_value, p_value, std_err = stats.linregress(this_dts,this_shf)\n",
    "    SHF[model] = dshf_d\n"
   ]
  },
  {
   "cell_type": "code",
   "execution_count": 60,
   "metadata": {},
   "outputs": [],
   "source": [
    "shf = np.array([]) \n",
    "\n",
    "for model in models:\n",
    "    shf = np.append(shf,SHF[model])\n",
    "\n"
   ]
  },
  {
   "cell_type": "code",
   "execution_count": 61,
   "metadata": {},
   "outputs": [
    {
     "data": {
      "text/plain": [
       "-0.25356354833617023"
      ]
     },
     "execution_count": 61,
     "metadata": {},
     "output_type": "execute_result"
    }
   ],
   "source": [
    "shf.mean()"
   ]
  },
  {
   "cell_type": "markdown",
   "metadata": {},
   "source": [
    "### TOA and surface fluxes "
   ]
  },
  {
   "cell_type": "markdown",
   "metadata": {},
   "source": [
    "#### Surface CRE LW piControl"
   ]
  },
  {
   "cell_type": "code",
   "execution_count": 63,
   "metadata": {},
   "outputs": [],
   "source": [
    "    ### surface lw \n",
    "    \n",
    "#    rldsn_pi = rlds_pi_annual - rlus_pi_annual \n",
    "\n",
    "#    rldsncs_pi = rldscs_pi_annual - rlus_pi_annual \n",
    "        \n",
    "#    rldsncre_pi = rldsn_pi - rldsncs_pi"
   ]
  },
  {
   "cell_type": "code",
   "execution_count": 64,
   "metadata": {},
   "outputs": [],
   "source": [
    "# rlds - rlus - (rldscs - rlus) = rlds - rlus - rldscs + rlus = rlds - rldscs"
   ]
  },
  {
   "cell_type": "code",
   "execution_count": 65,
   "metadata": {},
   "outputs": [
    {
     "name": "stdout",
     "output_type": "stream",
     "text": [
      "ACCESS-CM2_r1i1p1f1\n",
      "ACCESS-ESM1-5_r1i1p1f1\n",
      "AWI-CM-1-1-MR_r1i1p1f1\n",
      "BCC-CSM2-MR_r1i1p1f1\n",
      "BCC-ESM1_r1i1p1f1\n",
      "CESM2-WACCM_r1i1p1f1\n",
      "CESM2_r1i1p1f1\n",
      "CNRM-CM6-1-HR_r1i1p1f2\n",
      "CNRM-CM6-1_r1i1p1f2\n",
      "CNRM-ESM2-1_r1i1p1f2\n",
      "CNRM-ESM2-1_r3i1p1f2\n",
      "CanESM5_r1i1p1f1\n",
      "CanESM5_r1i1p2f1\n",
      "E3SM-1-0_r1i1p1f1\n",
      "EC-Earth3-Veg_r1i1p1f1\n",
      "EC-Earth3_r8i1p1f1\n",
      "fix for EC-Earth3, and IITM-ESM - branch is before piControl data starts. estimate trend from the end\n",
      "current model: EC-Earth3\n",
      "FGOALS-f3-L_r1i1p1f1\n",
      "FGOALS-f3-L_r2i1p1f1\n",
      "FGOALS-f3-L_r3i1p1f1\n",
      "GFDL-CM4_r1i1p1f1\n",
      "GISS-E2-1-G_r102i1p1f1\n",
      "GISS-E2-1-G_r1i1p1f1\n",
      "GISS-E2-1-G_r1i1p3f1\n",
      "GISS-E2-1-H_r1i1p1f1\n",
      "GISS-E2-1-H_r1i1p3f1\n",
      "GISS-E2-2-G_r1i1p1f1\n",
      "HadGEM3-GC31-LL_r1i1p1f3\n",
      "HadGEM3-GC31-MM_r1i1p1f3\n",
      "IITM-ESM_r1i1p1f1\n",
      "fix for EC-Earth3, and IITM-ESM - branch is before piControl data starts. estimate trend from the end\n",
      "current model: IITM-ESM\n",
      "INM-CM4-8_r1i1p1f1\n",
      "INM-CM5-0_r1i1p1f1\n",
      "IPSL-CM6A-LR_r1i1p1f1\n",
      "MIROC-ES2L_r1i1p1f2\n",
      "MIROC6_r1i1p1f1\n",
      "MPI-ESM1-2-HR_r1i1p1f1\n",
      "MPI-ESM1-2-LR_r1i1p1f1\n",
      "MRI-ESM2-0_r10i1p1f1\n",
      "MRI-ESM2-0_r13i1p1f1\n",
      "MRI-ESM2-0_r1i1p1f1\n",
      "MRI-ESM2-0_r1i2p1f1\n",
      "MRI-ESM2-0_r4i1p1f1\n",
      "MRI-ESM2-0_r7i1p1f1\n",
      "NESM3_r1i1p1f1\n",
      "SAM0-UNICON_r1i1p1f1\n",
      "UKESM1-0-LL_r1i1p1f2\n"
     ]
    }
   ],
   "source": [
    "sfccrelw_pi = xr.Dataset()\n",
    "\n",
    "for modvar in list(model_variants):\n",
    "    print(modvar)\n",
    "    thismodel = ds_allvar.sel(model_variant=(modvar))\n",
    "    thismodel_sfccrelw = xr.DataArray( thismodel.rlds - thismodel.rldscs ) \n",
    "    this_sfccrelw = get_pi_mean(thismodel_sfccrelw)\n",
    "    if not list(sfccrelw_pi.variables) == []:\n",
    "        sfccrelw_pi = xr.concat([sfccrelw_pi,this_sfccrelw.to_dataset(name='sfccrelw')],dim=\"model_variant\")\n",
    "    else:\n",
    "        sfccrelw_pi = this_sfccrelw.to_dataset(name='sfccrelw')\n"
   ]
  },
  {
   "cell_type": "code",
   "execution_count": 66,
   "metadata": {},
   "outputs": [
    {
     "name": "stdout",
     "output_type": "stream",
     "text": [
      "AWI-CM-1-1-MR\n",
      "CNRM-ESM2-1\n",
      "GFDL-CM4\n",
      "MPI-ESM1-2-LR\n",
      "MPI-ESM1-2-HR\n",
      "GISS-E2-1-G\n",
      "GISS-E2-1-H\n",
      "NESM3\n",
      "CNRM-CM6-1\n",
      "EC-Earth3-Veg\n",
      "IPSL-CM6A-LR\n",
      "GISS-E2-2-G\n",
      "EC-Earth3\n",
      "MIROC6\n",
      "E3SM-1-0\n",
      "CNRM-CM6-1-HR\n",
      "BCC-ESM1\n",
      "CanESM5\n",
      "CESM2\n",
      "CESM2-WACCM\n",
      "BCC-CSM2-MR\n",
      "HadGEM3-GC31-MM\n",
      "ACCESS-ESM1-5\n",
      "MRI-ESM2-0\n",
      "HadGEM3-GC31-LL\n",
      "MIROC-ES2L\n",
      "ACCESS-CM2\n",
      "FGOALS-f3-L\n",
      "IITM-ESM\n",
      "UKESM1-0-LL\n",
      "INM-CM4-8\n",
      "SAM0-UNICON\n",
      "INM-CM5-0\n"
     ]
    }
   ],
   "source": [
    "sfc_cre_lw_pi = np.array([]) \n",
    "\n",
    "for model in list(models):\n",
    "    print(model)\n",
    "    this_one = sfccrelw_pi.sfccrelw.isel(model_variant=indexPosList[model]).mean(\"model_variant\")\n",
    "    sfc_cre_lw_pi = np.append(sfc_cre_lw_pi,this_one)\n"
   ]
  },
  {
   "cell_type": "code",
   "execution_count": 67,
   "metadata": {},
   "outputs": [
    {
     "data": {
      "text/plain": [
       "array([26.07928364, 25.30976981, 23.20636057, 29.13294952, 26.28644917,\n",
       "       24.05250742, 24.21913345, 27.39324317, 25.72715615, 23.67314704,\n",
       "       31.38148539, 26.30899133, 23.59710283, 29.1264597 , 29.15717899,\n",
       "       25.88651179, 25.85281524, 30.11596613, 27.65486472, 28.13526007,\n",
       "       26.01481102, 26.52724757, 25.97782856, 28.22766811, 26.83663128,\n",
       "       30.15264711, 26.95875448, 24.33158046, 28.58091722, 26.92596969,\n",
       "       23.24451742, 25.25043449, 24.15633344])"
      ]
     },
     "execution_count": 67,
     "metadata": {},
     "output_type": "execute_result"
    }
   ],
   "source": [
    "sfc_cre_lw_pi"
   ]
  },
  {
   "cell_type": "markdown",
   "metadata": {},
   "source": [
    "### Surface CRE "
   ]
  },
  {
   "cell_type": "code",
   "execution_count": 68,
   "metadata": {},
   "outputs": [],
   "source": [
    "# sfc_cre_lw = rlds - rldscs"
   ]
  },
  {
   "cell_type": "code",
   "execution_count": 69,
   "metadata": {},
   "outputs": [],
   "source": [
    "# sfc_cre_sw = rsdsn - rsdsncs = rsds - rsus - (rsdscs - rsuscs) = rsds - rsus - rsdscs + rsuscs"
   ]
  },
  {
   "cell_type": "code",
   "execution_count": 70,
   "metadata": {},
   "outputs": [
    {
     "name": "stdout",
     "output_type": "stream",
     "text": [
      "ACCESS-CM2_r1i1p1f1\n",
      "ACCESS-ESM1-5_r1i1p1f1\n",
      "AWI-CM-1-1-MR_r1i1p1f1\n",
      "BCC-CSM2-MR_r1i1p1f1\n",
      "BCC-ESM1_r1i1p1f1\n",
      "CESM2-WACCM_r1i1p1f1\n",
      "CESM2_r1i1p1f1\n",
      "CNRM-CM6-1-HR_r1i1p1f2\n",
      "CNRM-CM6-1_r1i1p1f2\n",
      "CNRM-ESM2-1_r1i1p1f2\n",
      "CNRM-ESM2-1_r3i1p1f2\n",
      "CanESM5_r1i1p1f1\n",
      "CanESM5_r1i1p2f1\n",
      "E3SM-1-0_r1i1p1f1\n",
      "EC-Earth3-Veg_r1i1p1f1\n",
      "EC-Earth3_r8i1p1f1\n",
      "fix for EC-Earth3, and IITM-ESM - branch is before piControl data starts. estimate trend from the end\n",
      "current model: EC-Earth3\n",
      "fix for EC-Earth3, and IITM-ESM - branch is before piControl data starts. estimate trend from the end\n",
      "current model: EC-Earth3\n",
      "fix for EC-Earth3, and IITM-ESM - branch is before piControl data starts. estimate trend from the end\n",
      "current model: EC-Earth3\n",
      "FGOALS-f3-L_r1i1p1f1\n",
      "FGOALS-f3-L_r2i1p1f1\n",
      "FGOALS-f3-L_r3i1p1f1\n",
      "GFDL-CM4_r1i1p1f1\n",
      "GISS-E2-1-G_r102i1p1f1\n",
      "GISS-E2-1-G_r1i1p1f1\n",
      "GISS-E2-1-G_r1i1p3f1\n",
      "GISS-E2-1-H_r1i1p1f1\n",
      "GISS-E2-1-H_r1i1p3f1\n",
      "GISS-E2-2-G_r1i1p1f1\n",
      "HadGEM3-GC31-LL_r1i1p1f3\n",
      "HadGEM3-GC31-MM_r1i1p1f3\n",
      "IITM-ESM_r1i1p1f1\n",
      "fix for EC-Earth3, and IITM-ESM - branch is before piControl data starts. estimate trend from the end\n",
      "current model: IITM-ESM\n",
      "fix for EC-Earth3, and IITM-ESM - branch is before piControl data starts. estimate trend from the end\n",
      "current model: IITM-ESM\n",
      "fix for EC-Earth3, and IITM-ESM - branch is before piControl data starts. estimate trend from the end\n",
      "current model: IITM-ESM\n",
      "INM-CM4-8_r1i1p1f1\n",
      "INM-CM5-0_r1i1p1f1\n",
      "IPSL-CM6A-LR_r1i1p1f1\n",
      "MIROC-ES2L_r1i1p1f2\n",
      "MIROC6_r1i1p1f1\n",
      "MPI-ESM1-2-HR_r1i1p1f1\n",
      "MPI-ESM1-2-LR_r1i1p1f1\n",
      "MRI-ESM2-0_r10i1p1f1\n",
      "MRI-ESM2-0_r13i1p1f1\n",
      "MRI-ESM2-0_r1i1p1f1\n",
      "MRI-ESM2-0_r1i2p1f1\n",
      "MRI-ESM2-0_r4i1p1f1\n",
      "MRI-ESM2-0_r7i1p1f1\n",
      "NESM3_r1i1p1f1\n",
      "SAM0-UNICON_r1i1p1f1\n",
      "UKESM1-0-LL_r1i1p1f2\n"
     ]
    }
   ],
   "source": [
    "sfc_cre_dedrifted = xr.Dataset()\n",
    "\n",
    "for modvar in list(model_variants):\n",
    "    print(modvar)\n",
    "    try:\n",
    "        thismodel = ds_allvar.sel(model_variant=(modvar))\n",
    "        thismodel_sfccrelw = xr.DataArray( thismodel.rlds - thismodel.rldscs, name=\"lw\" ) \n",
    "        dedrifted_lw = remove_drift(thismodel_sfccrelw)\n",
    "        thismodel_sfccresw = xr.DataArray( thismodel.rsds - thismodel.rsus - thismodel.rsdscs + thismodel.rsuscs , name=\"sw\") \n",
    "        dedrifted_sw = remove_drift(thismodel_sfccresw)\n",
    "        thismodel_sfccrenet = xr.DataArray( thismodel_sfccrelw + thismodel_sfccresw, name=\"net\" ) \n",
    "        dedrifted_net = remove_drift(thismodel_sfccrenet)\n",
    "        this_dedrifted = xr.merge([dedrifted_sw,dedrifted_lw,dedrifted_net])\n",
    "        if not list(sfc_cre_dedrifted.variables) == []:\n",
    "            sfc_cre_dedrifted = xr.concat([sfc_cre_dedrifted,this_dedrifted],dim=\"model_variant\")\n",
    "        else:\n",
    "            sfc_cre_dedrifted = this_dedrifted\n",
    "    except:\n",
    "        print(\"  skipped \" +modvar)"
   ]
  },
  {
   "cell_type": "code",
   "execution_count": 71,
   "metadata": {},
   "outputs": [],
   "source": [
    "def flux_dedrifted_timeseries_to_array(tas_dedrifted,fluxes_dedrifted,indexPosList,models):\n",
    "    # result will be [model,wavelength]\n",
    "    #   wavelengths - 0: SW, 1: LW, 2: Net\n",
    "    # Sign convention: positive is more precip (TOA: positive up) (SFC: positive down)\n",
    "    array = np.zeros([len(models),3])*np.nan\n",
    "    for imod in range(len(models)):\n",
    "        model = models[imod]\n",
    "        this_dts = tas_dedrifted.tas.isel(model_variant=indexPosList[model]).mean(\"model_variant\")\n",
    "        this_one = fluxes_dedrifted.sw.isel(model_variant=indexPosList[model]).mean(\"model_variant\")\n",
    "        dsw_d, intercept_d, r_value, p_value, std_err = stats.linregress(this_dts,this_one)\n",
    "        this_one = fluxes_dedrifted.lw.isel(model_variant=indexPosList[model]).mean(\"model_variant\")\n",
    "        dlw_d, intercept_d, r_value, p_value, std_err = stats.linregress(this_dts,this_one)\n",
    "        this_one = fluxes_dedrifted.net.isel(model_variant=indexPosList[model]).mean(\"model_variant\")\n",
    "        dnet_d, intercept_d, r_value, p_value, std_err = stats.linregress(this_dts,this_one)\n",
    "        array[imod,0]=dsw_d\n",
    "        array[imod,1]=dlw_d\n",
    "        array[imod,2]=dnet_d\n",
    "    return array "
   ]
  },
  {
   "cell_type": "code",
   "execution_count": 72,
   "metadata": {},
   "outputs": [],
   "source": [
    "sfc_cre = flux_dedrifted_timeseries_to_array(ds_dedrifted,sfc_cre_dedrifted,indexPosList,models)\n"
   ]
  },
  {
   "cell_type": "markdown",
   "metadata": {},
   "source": [
    "### Surface clear-sky"
   ]
  },
  {
   "cell_type": "code",
   "execution_count": 73,
   "metadata": {},
   "outputs": [],
   "source": [
    "    # all sky - SW, LW, Net\n",
    "    # clear sky - SW, LW, Net\n",
    "    # cre - SW, LW, NEt  \n",
    "#     rsdsn_pi = rsds_pi_annual - rsus_pi_annual \n",
    "#     rldsn_pi = rlds_pi_annual - rlus_pi_annual \n",
    "#     N_pi = rsdsn_pi + rldsn_pi\n",
    "\n",
    "#     rsdsncs_pi = rsdscs_pi_annual - rsuscs_pi_annual \n",
    "#     rldsncs_pi = rldscs_pi_annual - rlus_pi_annual \n",
    "#     Ncs_pi = rsdsncs_pi + rldsncs_pi\n",
    "        \n",
    "#     rsdsncre_pi = rsdsn_pi - rsdsncs_pi\n",
    "#     rldsncre_pi = rldsn_pi - rldsncs_pi\n",
    "#     Ncre_pi = N_pi - Ncs_pi"
   ]
  },
  {
   "cell_type": "code",
   "execution_count": 74,
   "metadata": {},
   "outputs": [],
   "source": [
    "    # all sky - SW, LW, Net\n",
    "    # clear sky - SW, LW, Net\n",
    "    # cre - SW, LW, NEt  \n",
    "#     rsdsn_4x = rsds_4x_annual - rsus_4x_annual \n",
    "#     rldsn_4x = rlds_4x_annual - rlus_4x_annual \n",
    "#     N_4x = rsdsn_4x + rldsn_4x\n",
    "\n",
    "#     rsdsncs_4x = rsdscs_4x_annual - rsuscs_4x_annual \n",
    "#     rldsncs_4x = rldscs_4x_annual - rlus_4x_annual \n",
    "#     Ncs_4x = rsdsncs_4x + rldsncs_4x\n",
    "        \n",
    "#     rsdsncre_4x = rsdsn_4x - rsdsncs_4x\n",
    "#     rldsncre_4x = rldsn_4x - rldsncs_4x\n",
    "#     Ncre_4x = N_4x - Ncs_4x"
   ]
  },
  {
   "cell_type": "code",
   "execution_count": 75,
   "metadata": {},
   "outputs": [
    {
     "name": "stdout",
     "output_type": "stream",
     "text": [
      "ACCESS-CM2_r1i1p1f1\n",
      "ACCESS-ESM1-5_r1i1p1f1\n",
      "AWI-CM-1-1-MR_r1i1p1f1\n",
      "BCC-CSM2-MR_r1i1p1f1\n",
      "BCC-ESM1_r1i1p1f1\n",
      "CESM2-WACCM_r1i1p1f1\n",
      "CESM2_r1i1p1f1\n",
      "CNRM-CM6-1-HR_r1i1p1f2\n",
      "CNRM-CM6-1_r1i1p1f2\n",
      "CNRM-ESM2-1_r1i1p1f2\n",
      "CNRM-ESM2-1_r3i1p1f2\n",
      "CanESM5_r1i1p1f1\n",
      "CanESM5_r1i1p2f1\n",
      "E3SM-1-0_r1i1p1f1\n",
      "EC-Earth3-Veg_r1i1p1f1\n",
      "EC-Earth3_r8i1p1f1\n",
      "fix for EC-Earth3, and IITM-ESM - branch is before piControl data starts. estimate trend from the end\n",
      "current model: EC-Earth3\n",
      "fix for EC-Earth3, and IITM-ESM - branch is before piControl data starts. estimate trend from the end\n",
      "current model: EC-Earth3\n",
      "fix for EC-Earth3, and IITM-ESM - branch is before piControl data starts. estimate trend from the end\n",
      "current model: EC-Earth3\n",
      "FGOALS-f3-L_r1i1p1f1\n",
      "FGOALS-f3-L_r2i1p1f1\n",
      "FGOALS-f3-L_r3i1p1f1\n",
      "GFDL-CM4_r1i1p1f1\n",
      "GISS-E2-1-G_r102i1p1f1\n",
      "GISS-E2-1-G_r1i1p1f1\n",
      "GISS-E2-1-G_r1i1p3f1\n",
      "GISS-E2-1-H_r1i1p1f1\n",
      "GISS-E2-1-H_r1i1p3f1\n",
      "GISS-E2-2-G_r1i1p1f1\n",
      "HadGEM3-GC31-LL_r1i1p1f3\n",
      "HadGEM3-GC31-MM_r1i1p1f3\n",
      "IITM-ESM_r1i1p1f1\n",
      "fix for EC-Earth3, and IITM-ESM - branch is before piControl data starts. estimate trend from the end\n",
      "current model: IITM-ESM\n",
      "fix for EC-Earth3, and IITM-ESM - branch is before piControl data starts. estimate trend from the end\n",
      "current model: IITM-ESM\n",
      "fix for EC-Earth3, and IITM-ESM - branch is before piControl data starts. estimate trend from the end\n",
      "current model: IITM-ESM\n",
      "INM-CM4-8_r1i1p1f1\n",
      "INM-CM5-0_r1i1p1f1\n",
      "IPSL-CM6A-LR_r1i1p1f1\n",
      "MIROC-ES2L_r1i1p1f2\n",
      "MIROC6_r1i1p1f1\n",
      "MPI-ESM1-2-HR_r1i1p1f1\n",
      "MPI-ESM1-2-LR_r1i1p1f1\n",
      "MRI-ESM2-0_r10i1p1f1\n",
      "MRI-ESM2-0_r13i1p1f1\n",
      "MRI-ESM2-0_r1i1p1f1\n",
      "MRI-ESM2-0_r1i2p1f1\n",
      "MRI-ESM2-0_r4i1p1f1\n",
      "MRI-ESM2-0_r7i1p1f1\n",
      "NESM3_r1i1p1f1\n",
      "SAM0-UNICON_r1i1p1f1\n",
      "UKESM1-0-LL_r1i1p1f2\n"
     ]
    }
   ],
   "source": [
    "### sfc clr \n",
    "#    rsdsncs = rsdscs - rsuscs \n",
    "#    rldsncs = rldscs - rlus\n",
    "#    Ncs = rsdsncs + rldsncs\n",
    "\n",
    "flux_dedrifted = xr.Dataset()\n",
    "\n",
    "for modvar in list(model_variants):\n",
    "    print(modvar)\n",
    "    try:\n",
    "        thismodel = ds_allvar.sel(model_variant=(modvar))\n",
    "        thismodel_sw = xr.DataArray( thismodel.rsdscs - thismodel.rsuscs , name=\"sw\") \n",
    "        dedrifted_sw = remove_drift(thismodel_sw)\n",
    "        thismodel_lw = xr.DataArray( thismodel.rldscs - thismodel.rlus, name=\"lw\" ) \n",
    "        dedrifted_lw = remove_drift(thismodel_lw)\n",
    "        thismodel_net = xr.DataArray( thismodel_lw + thismodel_sw, name=\"net\" ) \n",
    "        dedrifted_net = remove_drift(thismodel_net)\n",
    "        this_dedrifted = xr.merge([dedrifted_sw,dedrifted_lw,dedrifted_net])\n",
    "        if not list(flux_dedrifted.variables) == []:\n",
    "            flux_dedrifted = xr.concat([flux_dedrifted,this_dedrifted],dim=\"model_variant\")\n",
    "        else:\n",
    "            flux_dedrifted = this_dedrifted\n",
    "    except:\n",
    "        print(\"  skipped \" +modvar)\n",
    "        \n",
    "sfc_clr_dedrifted = flux_dedrifted.copy()"
   ]
  },
  {
   "cell_type": "code",
   "execution_count": 76,
   "metadata": {},
   "outputs": [],
   "source": [
    "sfc_clr = flux_dedrifted_timeseries_to_array(ds_dedrifted,sfc_clr_dedrifted,indexPosList,models)"
   ]
  },
  {
   "cell_type": "code",
   "execution_count": 77,
   "metadata": {},
   "outputs": [
    {
     "data": {
      "text/plain": [
       "array([[-0.22642102,  1.47950436,  1.25308334],\n",
       "       [-0.41300944,  1.61512953,  1.20212009],\n",
       "       [-0.25894792,  1.49377974,  1.23483181],\n",
       "       [-0.38907785,  1.73174299,  1.34266514],\n",
       "       [-0.32569084,  1.56737687,  1.24168604],\n",
       "       [-0.87320166,  1.8179113 ,  0.94470964],\n",
       "       [-0.40750132,  1.55302492,  1.14552361],\n",
       "       [-0.23667021,  1.83345431,  1.5967841 ],\n",
       "       [-0.06906307,  1.52359878,  1.45453571],\n",
       "       [-0.13023747,  1.64895157,  1.51871411],\n",
       "       [-0.1510888 ,  1.69257427,  1.54148547],\n",
       "       [-0.57650536,  1.82292335,  1.24641799],\n",
       "       [-0.09295611,  1.58678976,  1.49383365],\n",
       "       [-0.23209679,  1.58642479,  1.354328  ],\n",
       "       [-0.53501287,  1.78855606,  1.25354319],\n",
       "       [-0.2702651 ,  1.68642055,  1.41615545],\n",
       "       [-0.19887239,  1.46813819,  1.2692658 ],\n",
       "       [-0.15254954,  1.77614732,  1.62359778],\n",
       "       [-0.49113838,  1.69389017,  1.20275179],\n",
       "       [-0.84395338,  1.71119465,  0.86724128],\n",
       "       [-0.1620345 ,  1.39238662,  1.23035212],\n",
       "       [-0.50409892,  1.61978272,  1.11568381],\n",
       "       [-0.1779076 ,  1.50547981,  1.32757221],\n",
       "       [-0.05984875,  1.5840434 ,  1.52419465],\n",
       "       [-0.3844635 ,  1.58605635,  1.20159284],\n",
       "       [-0.31217683,  1.81197525,  1.49979843],\n",
       "       [-0.43344837,  1.61144863,  1.17800025],\n",
       "       [-0.26130649,  1.40112161,  1.13981512],\n",
       "       [-0.42835125,  1.81312775,  1.38477649],\n",
       "       [-0.19574795,  1.46790566,  1.27215771],\n",
       "       [ 0.18607849,  1.49387226,  1.67995075],\n",
       "       [-0.3876672 ,  1.51779061,  1.13012341],\n",
       "       [ 0.15762121,  1.518385  ,  1.6760062 ]])"
      ]
     },
     "execution_count": 77,
     "metadata": {},
     "output_type": "execute_result"
    }
   ],
   "source": [
    "sfc_clr"
   ]
  },
  {
   "cell_type": "markdown",
   "metadata": {},
   "source": [
    "Surface all-sky"
   ]
  },
  {
   "cell_type": "code",
   "execution_count": 78,
   "metadata": {},
   "outputs": [
    {
     "name": "stdout",
     "output_type": "stream",
     "text": [
      "ACCESS-CM2_r1i1p1f1\n",
      "ACCESS-ESM1-5_r1i1p1f1\n",
      "AWI-CM-1-1-MR_r1i1p1f1\n",
      "BCC-CSM2-MR_r1i1p1f1\n",
      "BCC-ESM1_r1i1p1f1\n",
      "CESM2-WACCM_r1i1p1f1\n",
      "CESM2_r1i1p1f1\n",
      "CNRM-CM6-1-HR_r1i1p1f2\n",
      "CNRM-CM6-1_r1i1p1f2\n",
      "CNRM-ESM2-1_r1i1p1f2\n",
      "CNRM-ESM2-1_r3i1p1f2\n",
      "CanESM5_r1i1p1f1\n",
      "CanESM5_r1i1p2f1\n",
      "E3SM-1-0_r1i1p1f1\n",
      "EC-Earth3-Veg_r1i1p1f1\n",
      "EC-Earth3_r8i1p1f1\n",
      "fix for EC-Earth3, and IITM-ESM - branch is before piControl data starts. estimate trend from the end\n",
      "current model: EC-Earth3\n",
      "fix for EC-Earth3, and IITM-ESM - branch is before piControl data starts. estimate trend from the end\n",
      "current model: EC-Earth3\n",
      "fix for EC-Earth3, and IITM-ESM - branch is before piControl data starts. estimate trend from the end\n",
      "current model: EC-Earth3\n",
      "FGOALS-f3-L_r1i1p1f1\n",
      "FGOALS-f3-L_r2i1p1f1\n",
      "FGOALS-f3-L_r3i1p1f1\n",
      "GFDL-CM4_r1i1p1f1\n",
      "GISS-E2-1-G_r102i1p1f1\n",
      "GISS-E2-1-G_r1i1p1f1\n",
      "GISS-E2-1-G_r1i1p3f1\n",
      "GISS-E2-1-H_r1i1p1f1\n",
      "GISS-E2-1-H_r1i1p3f1\n",
      "GISS-E2-2-G_r1i1p1f1\n",
      "HadGEM3-GC31-LL_r1i1p1f3\n",
      "HadGEM3-GC31-MM_r1i1p1f3\n",
      "IITM-ESM_r1i1p1f1\n",
      "fix for EC-Earth3, and IITM-ESM - branch is before piControl data starts. estimate trend from the end\n",
      "current model: IITM-ESM\n",
      "fix for EC-Earth3, and IITM-ESM - branch is before piControl data starts. estimate trend from the end\n",
      "current model: IITM-ESM\n",
      "fix for EC-Earth3, and IITM-ESM - branch is before piControl data starts. estimate trend from the end\n",
      "current model: IITM-ESM\n",
      "INM-CM4-8_r1i1p1f1\n",
      "INM-CM5-0_r1i1p1f1\n",
      "IPSL-CM6A-LR_r1i1p1f1\n",
      "MIROC-ES2L_r1i1p1f2\n",
      "MIROC6_r1i1p1f1\n",
      "MPI-ESM1-2-HR_r1i1p1f1\n",
      "MPI-ESM1-2-LR_r1i1p1f1\n",
      "MRI-ESM2-0_r10i1p1f1\n",
      "MRI-ESM2-0_r13i1p1f1\n",
      "MRI-ESM2-0_r1i1p1f1\n",
      "MRI-ESM2-0_r1i2p1f1\n",
      "MRI-ESM2-0_r4i1p1f1\n",
      "MRI-ESM2-0_r7i1p1f1\n",
      "NESM3_r1i1p1f1\n",
      "SAM0-UNICON_r1i1p1f1\n",
      "UKESM1-0-LL_r1i1p1f2\n"
     ]
    }
   ],
   "source": [
    "### sfc all\n",
    "#    rsdsn = rsds - rsuscs \n",
    "#    rldsn = rlds - rlus\n",
    "#    N = rsdsn + rldsn\n",
    "\n",
    "flux_dedrifted = xr.Dataset()\n",
    "\n",
    "for modvar in list(model_variants):\n",
    "    print(modvar)\n",
    "    try:\n",
    "        thismodel = ds_allvar.sel(model_variant=(modvar))\n",
    "        thismodel_sw = xr.DataArray( thismodel.rsds - thismodel.rsus , name=\"sw\") \n",
    "        dedrifted_sw = remove_drift(thismodel_sw)\n",
    "        thismodel_lw = xr.DataArray( thismodel.rlds - thismodel.rlus, name=\"lw\" ) \n",
    "        dedrifted_lw = remove_drift(thismodel_lw)\n",
    "        thismodel_net = xr.DataArray( thismodel_lw + thismodel_sw, name=\"net\" ) \n",
    "        dedrifted_net = remove_drift(thismodel_net)\n",
    "        this_dedrifted = xr.merge([dedrifted_sw,dedrifted_lw,dedrifted_net])\n",
    "        if not list(flux_dedrifted.variables) == []:\n",
    "            flux_dedrifted = xr.concat([flux_dedrifted,this_dedrifted],dim=\"model_variant\")\n",
    "        else:\n",
    "            flux_dedrifted = this_dedrifted\n",
    "    except:\n",
    "        print(\"  skipped \" +modvar)\n",
    "        \n",
    "sfc_all_dedrifted = flux_dedrifted.copy()"
   ]
  },
  {
   "cell_type": "code",
   "execution_count": 79,
   "metadata": {},
   "outputs": [],
   "source": [
    "sfc_all = flux_dedrifted_timeseries_to_array(ds_dedrifted,sfc_all_dedrifted,indexPosList,models)"
   ]
  },
  {
   "cell_type": "markdown",
   "metadata": {},
   "source": [
    "TOA clear-sky, all, cre"
   ]
  },
  {
   "cell_type": "code",
   "execution_count": 80,
   "metadata": {},
   "outputs": [
    {
     "name": "stdout",
     "output_type": "stream",
     "text": [
      "ACCESS-CM2_r1i1p1f1\n",
      "ACCESS-ESM1-5_r1i1p1f1\n",
      "AWI-CM-1-1-MR_r1i1p1f1\n",
      "BCC-CSM2-MR_r1i1p1f1\n",
      "BCC-ESM1_r1i1p1f1\n",
      "CESM2-WACCM_r1i1p1f1\n",
      "CESM2_r1i1p1f1\n",
      "CNRM-CM6-1-HR_r1i1p1f2\n",
      "CNRM-CM6-1_r1i1p1f2\n",
      "CNRM-ESM2-1_r1i1p1f2\n",
      "CNRM-ESM2-1_r3i1p1f2\n",
      "CanESM5_r1i1p1f1\n",
      "CanESM5_r1i1p2f1\n",
      "E3SM-1-0_r1i1p1f1\n",
      "EC-Earth3-Veg_r1i1p1f1\n",
      "EC-Earth3_r8i1p1f1\n",
      "fix for EC-Earth3, and IITM-ESM - branch is before piControl data starts. estimate trend from the end\n",
      "current model: EC-Earth3\n",
      "fix for EC-Earth3, and IITM-ESM - branch is before piControl data starts. estimate trend from the end\n",
      "current model: EC-Earth3\n",
      "fix for EC-Earth3, and IITM-ESM - branch is before piControl data starts. estimate trend from the end\n",
      "current model: EC-Earth3\n",
      "FGOALS-f3-L_r1i1p1f1\n",
      "FGOALS-f3-L_r2i1p1f1\n",
      "FGOALS-f3-L_r3i1p1f1\n",
      "GFDL-CM4_r1i1p1f1\n",
      "GISS-E2-1-G_r102i1p1f1\n",
      "GISS-E2-1-G_r1i1p1f1\n",
      "GISS-E2-1-G_r1i1p3f1\n",
      "GISS-E2-1-H_r1i1p1f1\n",
      "GISS-E2-1-H_r1i1p3f1\n",
      "GISS-E2-2-G_r1i1p1f1\n",
      "HadGEM3-GC31-LL_r1i1p1f3\n",
      "HadGEM3-GC31-MM_r1i1p1f3\n",
      "IITM-ESM_r1i1p1f1\n",
      "fix for EC-Earth3, and IITM-ESM - branch is before piControl data starts. estimate trend from the end\n",
      "current model: IITM-ESM\n",
      "fix for EC-Earth3, and IITM-ESM - branch is before piControl data starts. estimate trend from the end\n",
      "current model: IITM-ESM\n",
      "fix for EC-Earth3, and IITM-ESM - branch is before piControl data starts. estimate trend from the end\n",
      "current model: IITM-ESM\n",
      "INM-CM4-8_r1i1p1f1\n",
      "INM-CM5-0_r1i1p1f1\n",
      "IPSL-CM6A-LR_r1i1p1f1\n",
      "MIROC-ES2L_r1i1p1f2\n",
      "MIROC6_r1i1p1f1\n",
      "MPI-ESM1-2-HR_r1i1p1f1\n",
      "MPI-ESM1-2-LR_r1i1p1f1\n",
      "MRI-ESM2-0_r10i1p1f1\n",
      "MRI-ESM2-0_r13i1p1f1\n",
      "MRI-ESM2-0_r1i1p1f1\n",
      "MRI-ESM2-0_r1i2p1f1\n",
      "MRI-ESM2-0_r4i1p1f1\n",
      "MRI-ESM2-0_r7i1p1f1\n",
      "NESM3_r1i1p1f1\n",
      "SAM0-UNICON_r1i1p1f1\n",
      "UKESM1-0-LL_r1i1p1f2\n"
     ]
    }
   ],
   "source": [
    "### toa clr \n",
    "#     rsutncs_4x = - rsdt_4x_annual + rsutcs_4x_annual \n",
    "#     Ncs_4x = rsutncs_4x + rlutcs_4x_annual\n",
    "\n",
    "#     rsutncs_pi = - rsdt_pi_annual + rsutcs_pi_annual \n",
    "#     Ncs_pi = rsutncs_pi + rlutcs_pi_annual\n",
    "\n",
    "flux_dedrifted = xr.Dataset()\n",
    "\n",
    "for modvar in list(model_variants):\n",
    "    print(modvar)\n",
    "    try:\n",
    "        thismodel = ds_allvar.sel(model_variant=(modvar))\n",
    "        thismodel1 = ds_allvar.sel(model_variant=(modvar))\n",
    "        thismodel_sw = xr.DataArray( thismodel.rsutcs - thismodel1.rsdt , name=\"sw\") \n",
    "        dedrifted_sw = remove_drift(thismodel_sw)\n",
    "        thismodel_lw = xr.DataArray( thismodel.rlutcs, name=\"lw\" ) \n",
    "        dedrifted_lw = remove_drift(thismodel_lw)\n",
    "        thismodel_net = xr.DataArray( thismodel_lw + thismodel_sw, name=\"net\" ) \n",
    "        dedrifted_net = remove_drift(thismodel_net)\n",
    "        this_dedrifted = xr.merge([dedrifted_sw,dedrifted_lw,dedrifted_net])\n",
    "        if not list(flux_dedrifted.variables) == []:\n",
    "            flux_dedrifted = xr.concat([flux_dedrifted,this_dedrifted],dim=\"model_variant\")\n",
    "        else:\n",
    "            flux_dedrifted = this_dedrifted\n",
    "    except:\n",
    "        print(\"  skipped \" +modvar)\n",
    "        \n",
    "toa_clr_dedrifted = flux_dedrifted.copy()\n",
    "\n",
    "toa_clr = flux_dedrifted_timeseries_to_array(ds_dedrifted,flux_dedrifted,indexPosList,models)\n"
   ]
  },
  {
   "cell_type": "code",
   "execution_count": 81,
   "metadata": {},
   "outputs": [
    {
     "data": {
      "text/plain": [
       "array([[-0.72521543,  1.76066579,  1.03545036],\n",
       "       [-0.75994704,  1.57903792,  0.81909088],\n",
       "       [-0.78928529,  1.8016627 ,  1.0123774 ],\n",
       "       [-0.61235509,  1.77018194,  1.15782685],\n",
       "       [-0.64884581,  1.76002699,  1.11118118],\n",
       "       [-0.53931164,  1.58392942,  1.04461778],\n",
       "       [-0.82048302,  1.53773357,  0.71725056],\n",
       "       [-0.77989436,  1.60940673,  0.82951237],\n",
       "       [-0.77120514,  1.75599178,  0.98478664],\n",
       "       [-0.8550386 ,  1.61391273,  0.75887413],\n",
       "       [-0.77106136,  1.54052476,  0.76946339],\n",
       "       [-0.62618482,  1.62552196,  0.99933714],\n",
       "       [-0.8761494 ,  1.62460234,  0.74845294],\n",
       "       [-0.80985394,  1.91993488,  1.11008094],\n",
       "       [-0.49338505,  1.76464535,  1.27126031],\n",
       "       [-0.63033426,  1.76111459,  1.13078033],\n",
       "       [-0.68729842,  1.83592345,  1.14862504],\n",
       "       [-0.7806445 ,  1.84181847,  1.06117397],\n",
       "       [-0.53396839,  1.79760427,  1.26363588],\n",
       "       [-0.30999767,  1.852842  ,  1.54284433],\n",
       "       [-0.70983525,  1.92870175,  1.2188665 ],\n",
       "       [-0.55631379,  1.81796081,  1.26164701],\n",
       "       [-0.80884966,  1.79683677,  0.98798711],\n",
       "       [-0.81113889,  1.75614657,  0.94500767],\n",
       "       [-0.66059268,  1.80020533,  1.13961265],\n",
       "       [-0.75931103,  1.87096842,  1.11165739],\n",
       "       [-0.6235513 ,  1.80901857,  1.18546727],\n",
       "       [-0.68532223,  1.75774153,  1.0724193 ],\n",
       "       [-0.61783477,  2.0689477 ,  1.45111292],\n",
       "       [-0.68899377,  1.87721194,  1.18821817],\n",
       "       [-0.79745649,  1.8879289 ,  1.09047241],\n",
       "       [-0.61909985,  2.0051897 ,  1.38608984],\n",
       "       [-0.78365625,  1.94419291,  1.16053666]])"
      ]
     },
     "execution_count": 81,
     "metadata": {},
     "output_type": "execute_result"
    }
   ],
   "source": [
    "toa_clr"
   ]
  },
  {
   "cell_type": "code",
   "execution_count": 82,
   "metadata": {},
   "outputs": [
    {
     "name": "stdout",
     "output_type": "stream",
     "text": [
      "ACCESS-CM2_r1i1p1f1\n",
      "ACCESS-ESM1-5_r1i1p1f1\n",
      "AWI-CM-1-1-MR_r1i1p1f1\n",
      "BCC-CSM2-MR_r1i1p1f1\n",
      "BCC-ESM1_r1i1p1f1\n",
      "CESM2-WACCM_r1i1p1f1\n",
      "CESM2_r1i1p1f1\n",
      "CNRM-CM6-1-HR_r1i1p1f2\n",
      "CNRM-CM6-1_r1i1p1f2\n",
      "CNRM-ESM2-1_r1i1p1f2\n",
      "CNRM-ESM2-1_r3i1p1f2\n",
      "CanESM5_r1i1p1f1\n",
      "CanESM5_r1i1p2f1\n",
      "E3SM-1-0_r1i1p1f1\n",
      "EC-Earth3-Veg_r1i1p1f1\n",
      "EC-Earth3_r8i1p1f1\n",
      "fix for EC-Earth3, and IITM-ESM - branch is before piControl data starts. estimate trend from the end\n",
      "current model: EC-Earth3\n",
      "fix for EC-Earth3, and IITM-ESM - branch is before piControl data starts. estimate trend from the end\n",
      "current model: EC-Earth3\n",
      "fix for EC-Earth3, and IITM-ESM - branch is before piControl data starts. estimate trend from the end\n",
      "current model: EC-Earth3\n",
      "FGOALS-f3-L_r1i1p1f1\n",
      "FGOALS-f3-L_r2i1p1f1\n",
      "FGOALS-f3-L_r3i1p1f1\n",
      "GFDL-CM4_r1i1p1f1\n",
      "GISS-E2-1-G_r102i1p1f1\n",
      "GISS-E2-1-G_r1i1p1f1\n",
      "GISS-E2-1-G_r1i1p3f1\n",
      "GISS-E2-1-H_r1i1p1f1\n",
      "GISS-E2-1-H_r1i1p3f1\n",
      "GISS-E2-2-G_r1i1p1f1\n",
      "HadGEM3-GC31-LL_r1i1p1f3\n",
      "HadGEM3-GC31-MM_r1i1p1f3\n",
      "IITM-ESM_r1i1p1f1\n",
      "fix for EC-Earth3, and IITM-ESM - branch is before piControl data starts. estimate trend from the end\n",
      "current model: IITM-ESM\n",
      "fix for EC-Earth3, and IITM-ESM - branch is before piControl data starts. estimate trend from the end\n",
      "current model: IITM-ESM\n",
      "fix for EC-Earth3, and IITM-ESM - branch is before piControl data starts. estimate trend from the end\n",
      "current model: IITM-ESM\n",
      "INM-CM4-8_r1i1p1f1\n",
      "INM-CM5-0_r1i1p1f1\n",
      "IPSL-CM6A-LR_r1i1p1f1\n",
      "MIROC-ES2L_r1i1p1f2\n",
      "MIROC6_r1i1p1f1\n",
      "MPI-ESM1-2-HR_r1i1p1f1\n",
      "MPI-ESM1-2-LR_r1i1p1f1\n",
      "MRI-ESM2-0_r10i1p1f1\n",
      "MRI-ESM2-0_r13i1p1f1\n",
      "MRI-ESM2-0_r1i1p1f1\n",
      "MRI-ESM2-0_r1i2p1f1\n",
      "MRI-ESM2-0_r4i1p1f1\n",
      "MRI-ESM2-0_r7i1p1f1\n",
      "NESM3_r1i1p1f1\n",
      "SAM0-UNICON_r1i1p1f1\n",
      "UKESM1-0-LL_r1i1p1f2\n"
     ]
    }
   ],
   "source": [
    "### toa all\n",
    "#     rsutn_4x = - rsdt_4x_annual + rsut_4x_annual \n",
    "#     N_4x = rsutn_4x + rlut_4x_annual\n",
    "\n",
    "flux_dedrifted = xr.Dataset()\n",
    "\n",
    "for modvar in list(model_variants):\n",
    "    print(modvar)\n",
    "    try:\n",
    "        thismodel1 = ds_allvar.sel(model_variant=(modvar))\n",
    "        thismodel_sw = xr.DataArray( thismodel1.rsut - thismodel1.rsdt , name=\"sw\") \n",
    "        dedrifted_sw = remove_drift(thismodel_sw)\n",
    "        thismodel_lw = xr.DataArray( thismodel1.rlut, name=\"lw\" ) \n",
    "        dedrifted_lw = remove_drift(thismodel_lw)\n",
    "        thismodel_net = xr.DataArray( thismodel_lw + thismodel_sw, name=\"net\" ) \n",
    "        dedrifted_net = remove_drift(thismodel_net)\n",
    "        this_dedrifted = xr.merge([dedrifted_sw,dedrifted_lw,dedrifted_net])\n",
    "        if not list(flux_dedrifted.variables) == []:\n",
    "            flux_dedrifted = xr.concat([flux_dedrifted,this_dedrifted],dim=\"model_variant\")\n",
    "        else:\n",
    "            flux_dedrifted = this_dedrifted\n",
    "    except:\n",
    "        print(\"  skipped \" +modvar)\n",
    "        \n",
    "toa_all_dedrifted = flux_dedrifted.copy()\n",
    "\n",
    "toa_all = flux_dedrifted_timeseries_to_array(ds_dedrifted,flux_dedrifted,indexPosList,models)\n"
   ]
  },
  {
   "cell_type": "code",
   "execution_count": 83,
   "metadata": {},
   "outputs": [
    {
     "data": {
      "text/plain": [
       "array([[-0.35559823,  1.50106598,  1.14546775],\n",
       "       [-0.71861212,  1.34290682,  0.6242947 ],\n",
       "       [-0.74840903,  1.5688799 ,  0.82047087],\n",
       "       [ 0.12017887,  1.31228392,  1.43246279],\n",
       "       [-0.20910344,  1.4380349 ,  1.22893146],\n",
       "       [ 0.11029721,  1.37617407,  1.48647128],\n",
       "       [-0.2135733 ,  1.32392867,  1.11035537],\n",
       "       [-0.58207474,  1.38037152,  0.79829678],\n",
       "       [-0.67701019,  1.44850741,  0.77149723],\n",
       "       [-0.80479308,  1.59686759,  0.79207451],\n",
       "       [-0.84560081,  1.59533563,  0.74973482],\n",
       "       [ 0.32506809,  1.2164131 ,  1.54148119],\n",
       "       [-0.81703924,  1.59933051,  0.78229127],\n",
       "       [-0.59794485,  1.9921887 ,  1.39424386],\n",
       "       [-1.26220683,  1.88479537,  0.62258854],\n",
       "       [-0.51197555,  1.4594568 ,  0.94748124],\n",
       "       [-0.65118701,  1.57474987,  0.92356286],\n",
       "       [-0.70966182,  1.3613851 ,  0.65172328],\n",
       "       [-1.31014927,  1.93437232,  0.62422305],\n",
       "       [-1.33451282,  2.03530386,  0.70079104],\n",
       "       [-0.80090669,  1.8063857 ,  1.00547901],\n",
       "       [-1.5864159 ,  2.24755538,  0.66113947],\n",
       "       [-1.1392899 ,  1.872464  ,  0.7331741 ],\n",
       "       [-0.82677335,  1.76403928,  0.93726593],\n",
       "       [-1.61511367,  2.24338161,  0.62826794],\n",
       "       [-0.37478883,  1.89097351,  1.51618468],\n",
       "       [-1.55539404,  2.26806861,  0.71267456],\n",
       "       [-0.45265665,  1.79387577,  1.34121912],\n",
       "       [ 0.07361057,  1.84712737,  1.92073794],\n",
       "       [-1.5389161 ,  2.21851305,  0.67959694],\n",
       "       [-0.5333291 ,  2.00750355,  1.47417446],\n",
       "       [-1.42412465,  2.47229257,  1.04816792],\n",
       "       [-0.60290747,  2.12767395,  1.52476649]])"
      ]
     },
     "execution_count": 83,
     "metadata": {},
     "output_type": "execute_result"
    }
   ],
   "source": [
    "toa_all"
   ]
  },
  {
   "cell_type": "code",
   "execution_count": 84,
   "metadata": {},
   "outputs": [
    {
     "name": "stdout",
     "output_type": "stream",
     "text": [
      "ACCESS-CM2_r1i1p1f1\n",
      "ACCESS-ESM1-5_r1i1p1f1\n",
      "AWI-CM-1-1-MR_r1i1p1f1\n",
      "BCC-CSM2-MR_r1i1p1f1\n",
      "BCC-ESM1_r1i1p1f1\n",
      "CESM2-WACCM_r1i1p1f1\n",
      "CESM2_r1i1p1f1\n",
      "CNRM-CM6-1-HR_r1i1p1f2\n",
      "CNRM-CM6-1_r1i1p1f2\n",
      "CNRM-ESM2-1_r1i1p1f2\n",
      "CNRM-ESM2-1_r3i1p1f2\n",
      "CanESM5_r1i1p1f1\n",
      "CanESM5_r1i1p2f1\n",
      "E3SM-1-0_r1i1p1f1\n",
      "EC-Earth3-Veg_r1i1p1f1\n",
      "EC-Earth3_r8i1p1f1\n",
      "fix for EC-Earth3, and IITM-ESM - branch is before piControl data starts. estimate trend from the end\n",
      "current model: EC-Earth3\n",
      "fix for EC-Earth3, and IITM-ESM - branch is before piControl data starts. estimate trend from the end\n",
      "current model: EC-Earth3\n",
      "fix for EC-Earth3, and IITM-ESM - branch is before piControl data starts. estimate trend from the end\n",
      "current model: EC-Earth3\n",
      "FGOALS-f3-L_r1i1p1f1\n",
      "FGOALS-f3-L_r2i1p1f1\n",
      "FGOALS-f3-L_r3i1p1f1\n",
      "GFDL-CM4_r1i1p1f1\n",
      "GISS-E2-1-G_r102i1p1f1\n",
      "GISS-E2-1-G_r1i1p1f1\n",
      "GISS-E2-1-G_r1i1p3f1\n",
      "GISS-E2-1-H_r1i1p1f1\n",
      "GISS-E2-1-H_r1i1p3f1\n",
      "GISS-E2-2-G_r1i1p1f1\n",
      "HadGEM3-GC31-LL_r1i1p1f3\n",
      "HadGEM3-GC31-MM_r1i1p1f3\n",
      "IITM-ESM_r1i1p1f1\n",
      "fix for EC-Earth3, and IITM-ESM - branch is before piControl data starts. estimate trend from the end\n",
      "current model: IITM-ESM\n",
      "fix for EC-Earth3, and IITM-ESM - branch is before piControl data starts. estimate trend from the end\n",
      "current model: IITM-ESM\n",
      "fix for EC-Earth3, and IITM-ESM - branch is before piControl data starts. estimate trend from the end\n",
      "current model: IITM-ESM\n",
      "INM-CM4-8_r1i1p1f1\n",
      "INM-CM5-0_r1i1p1f1\n",
      "IPSL-CM6A-LR_r1i1p1f1\n",
      "MIROC-ES2L_r1i1p1f2\n",
      "MIROC6_r1i1p1f1\n",
      "MPI-ESM1-2-HR_r1i1p1f1\n",
      "MPI-ESM1-2-LR_r1i1p1f1\n",
      "MRI-ESM2-0_r10i1p1f1\n",
      "MRI-ESM2-0_r13i1p1f1\n",
      "MRI-ESM2-0_r1i1p1f1\n",
      "MRI-ESM2-0_r1i2p1f1\n",
      "MRI-ESM2-0_r4i1p1f1\n",
      "MRI-ESM2-0_r7i1p1f1\n",
      "NESM3_r1i1p1f1\n",
      "SAM0-UNICON_r1i1p1f1\n",
      "UKESM1-0-LL_r1i1p1f2\n"
     ]
    },
    {
     "data": {
      "text/plain": [
       "array([[ 0.3696172 , -0.25959981,  0.11001739],\n",
       "       [ 0.04133493, -0.2361311 , -0.19479618],\n",
       "       [ 0.04087626, -0.2327828 , -0.19190654],\n",
       "       [ 0.73253395, -0.45789802,  0.27463594],\n",
       "       [ 0.43974237, -0.32199209,  0.11775028],\n",
       "       [ 0.64960885, -0.20775535,  0.4418535 ],\n",
       "       [ 0.60690971, -0.2138049 ,  0.39310481],\n",
       "       [ 0.19781962, -0.22903521, -0.0312156 ],\n",
       "       [ 0.09419496, -0.30748437, -0.21328941],\n",
       "       [ 0.05024552, -0.01704514,  0.03320038],\n",
       "       [-0.07453944,  0.05481087, -0.01972857],\n",
       "       [ 0.95125291, -0.40910886,  0.54214405],\n",
       "       [ 0.05911016, -0.02527183,  0.03383833],\n",
       "       [ 0.21190909,  0.07225383,  0.28416292],\n",
       "       [-0.76882179,  0.12015002, -0.64867176],\n",
       "       [ 0.1183587 , -0.30165779, -0.18329908],\n",
       "       [ 0.0361114 , -0.26117358, -0.22506218],\n",
       "       [ 0.07098268, -0.48043336, -0.40945068],\n",
       "       [-0.77618088,  0.13676805, -0.63941283],\n",
       "       [-1.02451515,  0.18246186, -0.84205329],\n",
       "       [-0.09107144, -0.12231605, -0.21338749],\n",
       "       [-1.03010211,  0.42959457, -0.60050754],\n",
       "       [-0.33044023,  0.07562722, -0.25481301],\n",
       "       [-0.01563445,  0.00789272, -0.00774174],\n",
       "       [-0.954521  ,  0.44317629, -0.51134471],\n",
       "       [ 0.38452219,  0.0200051 ,  0.40452729],\n",
       "       [-0.93184274,  0.45905004, -0.4727927 ],\n",
       "       [ 0.23266558,  0.03613424,  0.26879982],\n",
       "       [ 0.69144535, -0.22182033,  0.46962502],\n",
       "       [-0.84992233,  0.3413011 , -0.50862123],\n",
       "       [ 0.26412739,  0.11957465,  0.38370204],\n",
       "       [-0.8050248 ,  0.46710287, -0.33792192],\n",
       "       [ 0.18074879,  0.18348104,  0.36422983]])"
      ]
     },
     "execution_count": 84,
     "metadata": {},
     "output_type": "execute_result"
    }
   ],
   "source": [
    "### toa cre\n",
    "#     rsutn_4x = - rsdt_4x_annual + rsut_4x_annual \n",
    "#     N_4x = rsutn_4x + rlut_4x_annual\n",
    "\n",
    "#     rsutncs_4x = - rsdt_4x_annual + rsutcs_4x_annual \n",
    "#     Ncs_4x = rsutncs_4x + rlutcs_4x_annual\n",
    "\n",
    "#     rsutcre_4x = rsutn_4x - rsutncs_4x\n",
    "#     rlutcre_4x = rlut_4x_annual - rlutcs_4x_annual\n",
    "#     Ncre_4x = N_4x - Ncs_4x\n",
    "    \n",
    "flux_dedrifted = xr.Dataset()\n",
    "\n",
    "for modvar in list(model_variants):\n",
    "    print(modvar)\n",
    "    try:\n",
    "        thismodel = ds_allvar.sel(model_variant=(modvar))\n",
    "        thismodel1 = ds_allvar.sel(model_variant=(modvar))\n",
    "\n",
    "        # CRE\n",
    "        thismodel_sw = xr.DataArray( thismodel1.rsut - thismodel.rsutcs , name=\"sw\") \n",
    "        thismodel_lw = xr.DataArray( thismodel1.rlut - thismodel.rlutcs, name=\"lw\" ) \n",
    "\n",
    "        thismodel_net = xr.DataArray( thismodel_lw + thismodel_sw, name=\"net\" ) \n",
    "        dedrifted_sw = remove_drift(thismodel_sw)\n",
    "        dedrifted_lw = remove_drift(thismodel_lw)\n",
    "        dedrifted_net = remove_drift(thismodel_net)\n",
    "        this_dedrifted = xr.merge([dedrifted_sw,dedrifted_lw,dedrifted_net])\n",
    "        if not list(flux_dedrifted.variables) == []:\n",
    "            flux_dedrifted = xr.concat([flux_dedrifted,this_dedrifted],dim=\"model_variant\")\n",
    "        else:\n",
    "            flux_dedrifted = this_dedrifted\n",
    "    except:\n",
    "        print(\"  skipped \" +modvar)\n",
    "        \n",
    "toa_cre_dedrifted = flux_dedrifted.copy()\n",
    "\n",
    "toa_cre = flux_dedrifted_timeseries_to_array(ds_dedrifted,flux_dedrifted,indexPosList,models)\n",
    "\n",
    "toa_cre"
   ]
  },
  {
   "cell_type": "markdown",
   "metadata": {},
   "source": [
    "## CMIP5 data from Watanabe et al., 2018 "
   ]
  },
  {
   "cell_type": "code",
   "execution_count": 85,
   "metadata": {},
   "outputs": [],
   "source": [
    "cmip5={}\n",
    "\n",
    "# Watanabe et al 2018, Table S1\n",
    "# F [W/m2], \\lambda [W/m2/K], \\lambda swcre [W/m2/K], ECS[k], \\eta [%/K], surface dLWcre/dT [W/m2/K]  \n",
    "cmip5[\"ACCESS1.0\"]= [2.92, -0.75, 0.01, 3.89, 2.01, -0.56]\n",
    "cmip5[\"ACCESS1.3\"]= [ 2.86, -0.80,0.39,3.56,2.33,-0.64]\n",
    "cmip5[\"BCC-csm1-1\"]= [ 3.22, -1.13,-0.28,2.85,2.64,-0.43]\n",
    "cmip5[\"BCC-csm1-1-m\"]= [ 3.38, -1.15,-0.09,2.93,2.86,-0.45]\n",
    "cmip5[\"BNU-ESM\"]= [ 3.87, -0.99,-0.47,3.90,2.22,-0.28]\n",
    "cmip5[\"CanESM2\"]= [ 3.77, -1.03,-0.30,3.66,2.51,-0.61]\n",
    "cmip5[\"CCSM4\"]= [ 3.64, -1.23,-0.21,2.96,2.87,-0.32]\n",
    "cmip5[\"CNRM-CM5\"]= [ 3.69, -1.13,-0.29,3.26,2.55,-0.43]\n",
    "cmip5[\"CNRM-CM5-2\"]= [ 3.77, -1.10,-0.33,3.42,2.67,-0.44]\n",
    "cmip5[\"CSIRO-Mk3-6-0\"]= [ 2.55, -0.61, 0.42, 4.17, 2.63, -0.87]\n",
    "cmip5[\"FGOALS-g2\"]= [ 2.84, -0.85, -0.24, 3.37, 2.49, -0.31]\n",
    "cmip5[\"FGOALS-s2\"]= [ 3.79, -0.90, -0.57, 4.21, 2.43, -0.38]\n",
    "cmip5[\"GFDL-CM3\"]= [ 2.97,-0.74, 0.57, 3.99, 2.51, -0.74]\n",
    "cmip5[\"GFDL-ESM2G\"]= [3.0, -1.24, -0.44, 2.42, 2.20 ,-0.39]\n",
    "cmip5[\"GFDL-ESM2M\"]= [ 3.36, -1.38, -0.49, 2.44, 2.37, -0.37]\n",
    "cmip5[\"GISS-E2-H\"]= [ 3.77, -1.60, -0.70, 2.36, 2.69, -0.31]\n",
    "cmip5[\"GISS-E2-R\"]= [ 3.61 ,-1.67, -0.75, 2.16, 2.78, -0.32]\n",
    "cmip5[\"HadGEM2-ES\"]= [ 2.91, -0.63, 0.25, 4.61, 2.07, -0.65]\n",
    "cmip5[\"INM-CM4\"]= [ 3.02, -1.46, -0.14, 2.07 ,2.53, -0.73]\n",
    "cmip5[\"IPSL-CM5A-LR\"]= [ 3.07, -0.74, 0.62, 4.15, 3.23, -0.99]\n",
    "cmip5[\"IPSL-CM5A-MR\"]= [ 3.27 ,-0.79, 0.68, 4.15, 3.18, -1.03]\n",
    "cmip5[\"IPSL-CM5B-LR\"]= [ 2.63, -1.01, 0.21, 2.61, 2.93, -0.66]\n",
    "cmip5[\"MIROC5\"]= [4.10, -1.50, -0.43, 2.73, 2.44, -0.61]\n",
    "cmip5[\"MIROC-ESM\"]= [ 4.17, -0.88, 0.16, 4.72, 2.54, -0.59]\n",
    "cmip5[\"MPI-ESM-LR\"]= [ 4.04, -1.11, -0.25 ,3.65, 2.50, -0.56]\n",
    "cmip5[\"MPI-ESM-MR\"]= [ 4.04, -1.16, -0.08, 3.48, 2.49, -0.58]\n",
    "cmip5[\"MPI-ESM-P\"]= [ 4.22, -1.22, -0.23, 3.48, 2.56, -0.57]\n",
    "cmip5[\"MRI-CGCM3\"]= [ 3.26, -1.25, 0.19, 2.60, 3.38, -0.31]\n",
    "cmip5[\"NorESM1-M\"]= [ 3.10, -1.10, -0.14, 2.80, 2.78, -0.37]"
   ]
  },
  {
   "cell_type": "code",
   "execution_count": 86,
   "metadata": {},
   "outputs": [],
   "source": [
    "def cmip5_list_to_array(table,icol):\n",
    "    models=list(table)\n",
    "    array = np.zeros([len(table)])*np.nan\n",
    "    for imod in range(len(table)):\n",
    "        array[imod]=table[models[imod]][icol]\n",
    "    return array "
   ]
  },
  {
   "cell_type": "code",
   "execution_count": 87,
   "metadata": {},
   "outputs": [],
   "source": [
    "# F [W/m2], \\lambda [W/m2/K], \\lambda swcre [W/m2/K], ECS[k], \\eta [%/K], surface dLWcre/dT [W/m2/K]  \n"
   ]
  },
  {
   "cell_type": "code",
   "execution_count": 88,
   "metadata": {},
   "outputs": [],
   "source": [
    "F5  = cmip5_list_to_array(cmip5,0)\n",
    "toa_all_5 =  cmip5_list_to_array(cmip5,1)\n",
    "toa_cre_sw_5 = cmip5_list_to_array(cmip5,2)\n",
    "ecs5 = cmip5_list_to_array(cmip5,3)\n",
    "dpdt_rel_5 =  cmip5_list_to_array(cmip5,4)\n",
    "sfc_cre_lw_5 =  cmip5_list_to_array(cmip5,5)"
   ]
  },
  {
   "cell_type": "markdown",
   "metadata": {},
   "source": [
    "## CMIP5 data from DeAngelis et al 2015"
   ]
  },
  {
   "cell_type": "code",
   "execution_count": 89,
   "metadata": {},
   "outputs": [],
   "source": [
    "# F5  = cmip5_list_to_array(cmip5,0)\n",
    "# toa_all_5 =  cmip5_list_to_array(cmip5,1)\n",
    "# toa_cre_sw_5 = cmip5_list_to_array(cmip5,2)\n",
    "# ecs5 = cmip5_list_to_array(cmip5,3)\n",
    "# dpdt_rel_5 =  cmip5_list_to_array(cmip5,4)\n",
    "# sfc_cre_lw_5 =  cmip5_list_to_array(cmip5,5)"
   ]
  },
  {
   "cell_type": "code",
   "execution_count": 90,
   "metadata": {},
   "outputs": [
    {
     "data": {
      "text/plain": [
       "{'ACCESS1.0': [2.92, -0.75, 0.01, 3.89, 2.01, -0.56],\n",
       " 'ACCESS1.3': [2.86, -0.8, 0.39, 3.56, 2.33, -0.64],\n",
       " 'BCC-csm1-1': [3.22, -1.13, -0.28, 2.85, 2.64, -0.43],\n",
       " 'BCC-csm1-1-m': [3.38, -1.15, -0.09, 2.93, 2.86, -0.45],\n",
       " 'CanESM2': [3.77, -1.03, -0.3, 3.66, 2.51, -0.61],\n",
       " 'CCSM4': [3.64, -1.23, -0.21, 2.96, 2.87, -0.32],\n",
       " 'CNRM-CM5': [3.69, -1.13, -0.29, 3.26, 2.55, -0.43],\n",
       " 'CNRM-CM5-2': [3.77, -1.1, -0.33, 3.42, 2.67, -0.44],\n",
       " 'GFDL-CM3': [2.97, -0.74, 0.57, 3.99, 2.51, -0.74],\n",
       " 'GFDL-ESM2G': [3.0, -1.24, -0.44, 2.42, 2.2, -0.39],\n",
       " 'GFDL-ESM2M': [3.36, -1.38, -0.49, 2.44, 2.37, -0.37],\n",
       " 'GISS-E2-H': [3.77, -1.6, -0.7, 2.36, 2.69, -0.31],\n",
       " 'GISS-E2-R': [3.61, -1.67, -0.75, 2.16, 2.78, -0.32],\n",
       " 'HadGEM2-ES': [2.91, -0.63, 0.25, 4.61, 2.07, -0.65],\n",
       " 'INM-CM4': [3.02, -1.46, -0.14, 2.07, 2.53, -0.73],\n",
       " 'IPSL-CM5A-LR': [3.07, -0.74, 0.62, 4.15, 3.23, -0.99],\n",
       " 'IPSL-CM5A-MR': [3.27, -0.79, 0.68, 4.15, 3.18, -1.03],\n",
       " 'IPSL-CM5B-LR': [2.63, -1.01, 0.21, 2.61, 2.93, -0.66],\n",
       " 'MIROC5': [4.1, -1.5, -0.43, 2.73, 2.44, -0.61],\n",
       " 'MIROC-ESM': [4.17, -0.88, 0.16, 4.72, 2.54, -0.59],\n",
       " 'MPI-ESM-LR': [4.04, -1.11, -0.25, 3.65, 2.5, -0.56],\n",
       " 'MPI-ESM-MR': [4.04, -1.16, -0.08, 3.48, 2.49, -0.58],\n",
       " 'MPI-ESM-P': [4.22, -1.22, -0.23, 3.48, 2.56, -0.57],\n",
       " 'MRI-CGCM3': [3.26, -1.25, 0.19, 2.6, 3.38, -0.31],\n",
       " 'NorESM1-M': [3.1, -1.1, -0.14, 2.8, 2.78, -0.37]}"
      ]
     },
     "execution_count": 90,
     "metadata": {},
     "output_type": "execute_result"
    }
   ],
   "source": [
    "deangelis = cmip5.copy()\n",
    "not_in_w18 = deangelis.pop('BNU-ESM')\n",
    "not_in_w18 = deangelis.pop('CSIRO-Mk3-6-0')\n",
    "not_in_w18 = deangelis.pop('FGOALS-g2')\n",
    "not_in_w18 = deangelis.pop('FGOALS-s2')\n",
    "deangelis"
   ]
  },
  {
   "cell_type": "code",
   "execution_count": 91,
   "metadata": {},
   "outputs": [],
   "source": [
    "dpdt_rel_5_d =  cmip5_list_to_array(deangelis,4)\n"
   ]
  },
  {
   "cell_type": "code",
   "execution_count": 92,
   "metadata": {},
   "outputs": [],
   "source": [
    "ecs5_d =  cmip5_list_to_array(deangelis,3)\n",
    "sfc_cre_lw_5_d =  cmip5_list_to_array(deangelis,5)"
   ]
  },
  {
   "cell_type": "code",
   "execution_count": 93,
   "metadata": {},
   "outputs": [],
   "source": [
    "dswabsdt_5_d=np.array([1.025228957,\n",
    "1.042555832,\n",
    "0.804639296,\n",
    "0.849441145,\n",
    "0.949687677,\n",
    "0.820150225,\n",
    "0.903957017,\n",
    "0.942364385,\n",
    "1.006976657,\n",
    "0.985190622,\n",
    "1.023830979,\n",
    "0.517747867,\n",
    "0.556766804,\n",
    "1.01355565,\n",
    "0.665018636,\n",
    "0.773409395,\n",
    "0.796192504,\n",
    "0.677018692,\n",
    "1.087183556,\n",
    "1.05397107,\n",
    "0.989188274,\n",
    "0.992472942,\n",
    "1.005214722,\n",
    "0.699738957,\n",
    "0.838082797])"
   ]
  },
  {
   "cell_type": "code",
   "execution_count": 94,
   "metadata": {},
   "outputs": [],
   "source": [
    "dpdt_abs_5_d = np.array([1.813936148,\n",
    "2.169819469,\n",
    "2.135486461,\n",
    "2.333308768,\n",
    "2.018609449,\n",
    "2.343344678,\n",
    "2.260955301,\n",
    "2.349167504,\n",
    "2.214228356,\n",
    "1.866796638,\n",
    "2.065380565,\n",
    "2.571907245,\n",
    "2.665043309,\n",
    "1.850798193,\n",
    "2.330655215,\n",
    "2.47552944,\n",
    "2.519395795,\n",
    "2.258002078,\n",
    "2.142891126,\n",
    "2.327435201,\n",
    "2.059025758,\n",
    "2.16648256,\n",
    "2.192448676,\n",
    "2.730596536,\n",
    "2.26326046])"
   ]
  },
  {
   "cell_type": "code",
   "execution_count": 95,
   "metadata": {},
   "outputs": [],
   "source": [
    "def readcsvdeangelisata(filename):\n",
    "    fluxes = {}\n",
    "    spamreader = csv.reader(open(filename))\n",
    "    next(spamreader)\n",
    "    for row in spamreader:\n",
    "        try:\n",
    "            print(row[1])\n",
    "            print(row[3:-1:2])\n",
    "            string_list = row[3:-1:2]\n",
    "            float_list = [ float(item) for item in string_list ]\n",
    "            fluxes[row[1]]=np.array(float_list)\n",
    "        except:\n",
    "            print(row)\n",
    "    return fluxes"
   ]
  },
  {
   "cell_type": "code",
   "execution_count": 96,
   "metadata": {},
   "outputs": [
    {
     "name": "stdout",
     "output_type": "stream",
     "text": [
      "ACCESS1.0\n",
      "['1.813936148', '2.493334934', '0.873600687', '-0.154484185', '3.132042405', '1.025228957']\n",
      "ACCESS1.3\n",
      "['2.169819469', '2.820561599', '0.859127708', '-0.168004949', '3.336786594', '1.042555832']\n",
      "BCC-CSM1.1\n",
      "['2.135486461', '2.42857883', '0.626043759', '-0.305967334', '3.082159552', '0.804639296']\n",
      "BCC-CSM1.1(m)\n",
      "['2.333308768', '2.689117711', '0.663120152', '-0.273175095', '3.291536684', '0.849441145']\n",
      "CanESM2\n",
      "['2.018609449', '2.416564391', '0.795115654', '-0.39037818', '3.482735903', '0.949687677']\n",
      "CCSM4\n",
      "['2.343344678', '2.825006777', '0.68063345', '-0.181220115', '3.08195808', '0.820150225']\n",
      "CNRM-CM5\n",
      "['2.260955301', '2.660152786', '0.828796175', '-0.26558461', '3.192158044', '0.903957017']\n",
      "CNRM-CM5-2\n",
      "['2.349167504', '2.779391236', '0.871121241', '-0.278482335', '3.290522164', '0.942364385']\n",
      "GFDL-CM3\n",
      "['2.214228356', '2.808579366', '0.850926184', '-0.245159497', '3.48683299', '1.006976657']\n",
      "GFDL-ESM2G\n",
      "['1.866796638', '2.594966597', '0.886824751', '-0.182920475', '3.233093196', '0.985190622']\n",
      "GFDL-ESM2M\n",
      "['2.065380565', '2.788393814', '0.932827349', '-0.24073542', '3.360939933', '1.023830979']\n",
      "GISS-E2-H\n",
      "['2.571907245', '2.667052917', '0.500980087', '-0.40029335', '3.262711708', '0.517747867']\n",
      "GISS-E2-R\n",
      "['2.665043309', '2.708499889', '0.544633454', '-0.496241868', '3.341687141', '0.556766804']\n",
      "HadGEM2-ES\n",
      "['1.850798193', '2.392329437', '0.828783663', '-0.247886311', '3.162822608', '1.01355565']\n",
      "INM-CM4\n",
      "['2.330655215', '2.724709519', '0.545066168', '-0.123844744', '3.46660048', '0.665018636']\n",
      "IPSL-CM5A-LR\n",
      "['2.47552944', '2.888281273', '0.672130075', '-0.253094611', '3.961678112', '0.773409395']\n",
      "IPSL-CM5A-MR\n",
      "['2.519395795', '2.988735048', '0.691761177', '-0.204282058', '4.107073244', '0.796192504']\n",
      "IPSL-CM5B-LR\n",
      "['2.258002078', '2.713695885', '0.584419923', '-0.176435216', '3.360631201', '0.677018692']\n",
      "MIROC-ESM\n",
      "['2.142891126', '3.014277837', '0.974654589', '-0.051216761', '3.628960996', '1.087183556']\n",
      "MIROC5\n",
      "['2.327435201', '3.012662255', '0.947761718', '-0.260484709', '3.577643551', '1.05397107']\n",
      "MPI-ESM-LR\n",
      "['2.059025758', '2.677008888', '0.825895055', '-0.256578329', '3.41413494', '0.989188274']\n",
      "MPI-ESM-MR\n",
      "['2.16648256', '2.811237986', '0.828447271', '-0.239224159', '3.499500866', '0.992472942']\n",
      "MPI-ESM-P\n",
      "['2.192448676', '2.762118603', '0.848513647', '-0.340111145', '3.485013285', '1.005214722']\n",
      "MRI-CGCM3\n",
      "['2.730596536', '3.139243349', '0.607425927', '-0.241129015', '3.230917197', '0.699738957']\n",
      "NorESM1-M\n",
      "['2.26326046', '2.71797462', '0.696167682', '-0.241178196', '3.141861158', '0.838082797']\n",
      "\n",
      "['', '', '', '', '', '']\n",
      "['', '', '', '', '', '', '', '', '', '', '', '', '', '', '', '']\n",
      "Model Mean\n",
      "['2.244980197', '2.740899022', '0.758591102', '-0.248724507', '3.384480081', '0.880783386']\n"
     ]
    }
   ],
   "source": [
    "# Model,,LvdP/dT,,all-dLWC/dT,,all-dSWA/dT,,dSH/dT,,clr-dLWC/dT,,clr-dSWA/dT,,(W/m^2/K)\n",
    "deangelis_ef2 = readcsvdeangelisata(\"data/deangelis_fed2.csv\")"
   ]
  },
  {
   "cell_type": "code",
   "execution_count": 97,
   "metadata": {},
   "outputs": [
    {
     "data": {
      "text/plain": [
       "array([ 2.2449802 ,  2.74089902,  0.7585911 , -0.24872451,  3.38448008,\n",
       "        0.88078339])"
      ]
     },
     "execution_count": 97,
     "metadata": {},
     "output_type": "execute_result"
    }
   ],
   "source": [
    "# Model,,LvdP/dT,,all-dLWC/dT,,all-dSWA/dT,,dSH/dT,,clr-dLWC/dT,,clr-dSWA/dT,,(W/m^2/K)\n",
    "#deangelis_ef2 = readcsvdeangelisata(\"data/deangelis_fed2.csv\")\n",
    "deangelis_ef2.pop('Model Mean')"
   ]
  },
  {
   "cell_type": "code",
   "execution_count": 98,
   "metadata": {},
   "outputs": [],
   "source": [
    "#list(deangelis_ef2)\n",
    "dpdt_abs_5_def2 =  cmip5_list_to_array(deangelis_ef2,0)\n",
    "#dpdt_abs_5_def2\n",
    "all_dLWCdT_5_def2 =  cmip5_list_to_array(deangelis_ef2,1)\n",
    "all_dSWAdT_5_def2 =  cmip5_list_to_array(deangelis_ef2,2)\n",
    "dSHdT_5_def2 =  cmip5_list_to_array(deangelis_ef2,3)\n",
    "clr_dLWCdT_5_def2 =  cmip5_list_to_array(deangelis_ef2,4)\n",
    "clr_dSWAdT_5_def2 =  cmip5_list_to_array(deangelis_ef2,5)\n"
   ]
  },
  {
   "cell_type": "code",
   "execution_count": 99,
   "metadata": {},
   "outputs": [],
   "source": [
    "# Mean precipitation in CMIP5\n",
    "p_5_d=dpdt_abs_5_d/(dpdt_rel_5_d/100)"
   ]
  },
  {
   "cell_type": "markdown",
   "metadata": {},
   "source": [
    "## Fluxes "
   ]
  },
  {
   "cell_type": "markdown",
   "metadata": {},
   "source": [
    "### compare with Watanabe et al  "
   ]
  },
  {
   "cell_type": "code",
   "execution_count": 100,
   "metadata": {},
   "outputs": [],
   "source": [
    "dpdt_abs_5_def2 =  cmip5_list_to_array(deangelis_ef2,0)\n",
    "all_dLWCdT_5_def2 =  cmip5_list_to_array(deangelis_ef2,1)\n",
    "all_dSWAdT_5_def2 =  cmip5_list_to_array(deangelis_ef2,2)\n",
    "dSHdT_5_def2 =  cmip5_list_to_array(deangelis_ef2,3)\n",
    "clr_dLWCdT_5_def2 =  cmip5_list_to_array(deangelis_ef2,4)\n",
    "clr_dSWAdT_5_def2 =  cmip5_list_to_array(deangelis_ef2,5)"
   ]
  },
  {
   "cell_type": "code",
   "execution_count": 101,
   "metadata": {},
   "outputs": [],
   "source": [
    "sfc_cre_lw_5_d =  cmip5_list_to_array(deangelis,5)"
   ]
  },
  {
   "cell_type": "markdown",
   "metadata": {},
   "source": [
    "### Observational update of dSWA/dPW"
   ]
  },
  {
   "cell_type": "code",
   "execution_count": 107,
   "metadata": {},
   "outputs": [],
   "source": [
    "filename = \"data/41586_2015_BFnature15770_MOESM56_ESM.csv\"  ## DeAngelis et al., 2015"
   ]
  },
  {
   "cell_type": "code",
   "execution_count": 108,
   "metadata": {},
   "outputs": [],
   "source": [
    "obsdata = pd.read_csv(filename)"
   ]
  },
  {
   "cell_type": "code",
   "execution_count": 109,
   "metadata": {},
   "outputs": [],
   "source": [
    "pw = np.array(obsdata.iloc[1:,0],\"float\")[:-1]"
   ]
  },
  {
   "cell_type": "code",
   "execution_count": 110,
   "metadata": {},
   "outputs": [],
   "source": [
    "swa_obs = np.array(obsdata.iloc[1:,[6,8,10]],\"float\")[:-1,:]"
   ]
  },
  {
   "cell_type": "code",
   "execution_count": 111,
   "metadata": {},
   "outputs": [],
   "source": [
    "ds_newobs = xr.open_dataset(\"data/ceres_ssmi_t_obs_may.nc\")"
   ]
  },
  {
   "cell_type": "code",
   "execution_count": 112,
   "metadata": {},
   "outputs": [],
   "source": [
    "new_obs = np.array(ds_newobs.sel(bincenters=slice(13,55)).swa_bin)"
   ]
  },
  {
   "cell_type": "code",
   "execution_count": 113,
   "metadata": {},
   "outputs": [],
   "source": [
    "swa_obs_new = np.zeros((len(pw),4))*np.nan"
   ]
  },
  {
   "cell_type": "code",
   "execution_count": 114,
   "metadata": {},
   "outputs": [],
   "source": [
    "swa_obs_new[:,:3]=swa_obs"
   ]
  },
  {
   "cell_type": "code",
   "execution_count": 115,
   "metadata": {},
   "outputs": [],
   "source": [
    "swa_obs_new[:,3]=new_obs"
   ]
  },
  {
   "cell_type": "code",
   "execution_count": 116,
   "metadata": {},
   "outputs": [],
   "source": [
    "theslope = []\n",
    "obs_slopes = []\n",
    "for iobs,color in enumerate([\"grey\",\"grey\",\"black\",\"red\"]):\n",
    "    #     plt.plot(pw,swa_obs_new[:,iobs],markers[iobs],color=color)\n",
    "    slope, intercept, r_value, p_value, std_err = stats.linregress(pw,swa_obs_new[:,iobs])\n",
    "    reg_line = (intercept + slope*pw)\n",
    "    #plt.plot(pw,reg_line,color=color)\n",
    "    theslope.append(\"{:0.3f} +/- {:0.3f}\".format(slope,std_err*1.96))\n",
    "    obs_slopes.append([slope,std_err])\n",
    "    "
   ]
  },
  {
   "cell_type": "code",
   "execution_count": 117,
   "metadata": {},
   "outputs": [],
   "source": [
    "filename = \"data/modvars-dswadpw_13052020.csv\"\n"
   ]
  },
  {
   "cell_type": "code",
   "execution_count": 118,
   "metadata": {},
   "outputs": [],
   "source": [
    "spamreader = csv.reader(open(filename))\n",
    "next(spamreader)\n",
    "readdata ={}\n",
    "for row in spamreader:\n",
    "    readdata[row[0]] = []\n",
    "    mems = row[1].strip('[').strip(']').split(\", \")\n",
    "    for mem in mems:\n",
    "        readdata[row[0]].append(mem.strip('\\''))\n",
    "\n",
    "dswadp_list = readdata.copy()"
   ]
  },
  {
   "cell_type": "code",
   "execution_count": 119,
   "metadata": {},
   "outputs": [],
   "source": [
    "ds_all = xr.open_dataset(\"data/dswadpw_19052020.nc\")\n"
   ]
  },
  {
   "cell_type": "code",
   "execution_count": 120,
   "metadata": {},
   "outputs": [],
   "source": [
    "modvars_dswdp = list(np.array(ds_all.model_variant))"
   ]
  },
  {
   "cell_type": "code",
   "execution_count": 121,
   "metadata": {},
   "outputs": [
    {
     "name": "stdout",
     "output_type": "stream",
     "text": [
      "FGOALS-f3-L missing\n",
      "IITM-ESM missing\n"
     ]
    }
   ],
   "source": [
    "for model in list(models_variants):\n",
    "    num = 0\n",
    "    for variant in models_variants[model]:\n",
    "        modvar = \"_\".join((model,variant))\n",
    "        if modvar in list(modvars_dswdp):\n",
    "            num = num+1 \n",
    "    if num==0:\n",
    "        print(model+\" missing\")"
   ]
  },
  {
   "cell_type": "code",
   "execution_count": 122,
   "metadata": {},
   "outputs": [],
   "source": [
    "indexPosList_dswadp = {}\n",
    "for modcount,modvar in enumerate(modvars_dswdp):\n",
    "    [model,mem] = modvar.split(\"_\")\n",
    "    if modvar in list(model_variants):\n",
    "        if model not in list(indexPosList_dswadp):\n",
    "            indexPosList_dswadp[model]=[modcount]\n",
    "        else:\n",
    "            indexPosList_dswadp[model].append(modcount)"
   ]
  },
  {
   "cell_type": "code",
   "execution_count": 123,
   "metadata": {},
   "outputs": [],
   "source": [
    "flat_list = []\n",
    "for list_of_inds in indexPosList_dswadp.values():\n",
    "    flat_list = flat_list+list_of_inds[:] "
   ]
  },
  {
   "cell_type": "code",
   "execution_count": 124,
   "metadata": {},
   "outputs": [],
   "source": [
    "ds_modvar = ds_all.isel(model_variant=flat_list)"
   ]
  },
  {
   "cell_type": "code",
   "execution_count": 125,
   "metadata": {},
   "outputs": [],
   "source": [
    "ds_overlap = ds_all.sel(bincenters=slice(13,55))"
   ]
  },
  {
   "cell_type": "code",
   "execution_count": 126,
   "metadata": {},
   "outputs": [],
   "source": [
    "bincenters = np.array(ds_overlap.bincenters)\n"
   ]
  },
  {
   "cell_type": "code",
   "execution_count": 127,
   "metadata": {},
   "outputs": [],
   "source": [
    "models_dswadp = [model for model in models if model in list(indexPosList_dswadp)]"
   ]
  },
  {
   "cell_type": "code",
   "execution_count": 128,
   "metadata": {},
   "outputs": [
    {
     "data": {
      "image/png": "[encoded data removed]",
      "text/plain": [
       "<Figure size 720x540 with 36 Axes>"
      ]
     },
     "metadata": {
      "needs_background": "light"
     },
     "output_type": "display_data"
    }
   ],
   "source": [
    "fig = plt.figure(figsize=[10,7.5])\n",
    "axes =  fig.subplots(5,7,sharex=True,sharey=True)\n",
    "ind_array=np.reshape(np.arange(35),axes.shape)\n",
    "\n",
    "mod_slopes = []\n",
    "for imod,model in enumerate(models_dswadp):\n",
    "    #variant=models_variants[model][0]\n",
    "    #modvar = \"_\".join((model,variant))\n",
    "    i,j = np.argwhere(ind_array==imod)[0]\n",
    "\n",
    "    swa_bin=np.array(ds_overlap.swa.isel(model_variant=indexPosList_dswadp[model]).mean(\"model_variant\"))\n",
    "\n",
    "    axes[i,j].plot(bincenters,new_obs,'>',color=\"tab:blue\")\n",
    "\n",
    "    for iobs,color in enumerate([\"tab:blue\"]):\n",
    "        slope, intercept, r_value, p_value, std_err = stats.linregress(bincenters,new_obs)\n",
    "        reg_line = (intercept + slope*bincenters)\n",
    "        axes[i,j].plot(bincenters,reg_line,color=color)\n",
    "    \n",
    "    slope, intercept, r_value, p_value, std_err = stats.linregress(bincenters,swa_bin)\n",
    "    reg_line = (intercept + slope*bincenters)\n",
    "    \n",
    "    axes[i,j].plot(bincenters,swa_bin,'-ok')\n",
    "    axes[i,j].plot(bincenters,reg_line,'-r')    \n",
    "    axes[i,j].set_title(model,fontsize=10)\n",
    "    \n",
    "    axes[i,j].text(13,23,\"{:0.2f}\".format(slope))\n",
    "    mod_slopes.append([slope,std_err])\n",
    "\n",
    "\n",
    "for imod in range(31,35):\n",
    "    i,j = np.argwhere(ind_array==imod)[0]\n",
    "    axes[i,j].set(visible=False)\n",
    "\n",
    "fig.add_subplot(111, frameon=False)\n",
    "# hide tick and tick label of the big axis\n",
    "plt.tick_params(labelcolor='none', top=False, bottom=False, left=False, right=False)\n",
    "plt.xlabel(\"PW [kg/m2]\",fontsize=16)\n",
    "plt.ylabel(\"Clear-sky SW abs [%]\",fontsize=16,labelpad=20)\n",
    "\n",
    "fig.tight_layout()"
   ]
  },
  {
   "cell_type": "code",
   "execution_count": 129,
   "metadata": {},
   "outputs": [],
   "source": [
    "dswadpw = np.zeros((len(models),2))*np.nan\n",
    "#dswa_mods = models_dswadp\n",
    "for imod,model in enumerate(models):\n",
    "    #print(imod,model)\n",
    "    if model in models_dswadp:\n",
    "        iswp = models_dswadp.index(model)\n",
    "        dswadpw[imod,:] = mod_slopes[iswp]"
   ]
  },
  {
   "cell_type": "code",
   "execution_count": 130,
   "metadata": {},
   "outputs": [],
   "source": [
    "## Use DeAngelis et al error bars: top and bottom of confidence range from *all* obs."
   ]
  },
  {
   "cell_type": "code",
   "execution_count": 131,
   "metadata": {},
   "outputs": [],
   "source": [
    "obs_conf_int = np.zeros((4,2))\n",
    "for iobs in range(4):\n",
    "    obs_conf_int[iobs,0] = obs_slopes[iobs][0]-obs_slopes[iobs][1]*1.96\n",
    "    obs_conf_int[iobs,1] = obs_slopes[iobs][0]+obs_slopes[iobs][1]*1.96"
   ]
  },
  {
   "cell_type": "code",
   "execution_count": 132,
   "metadata": {},
   "outputs": [],
   "source": [
    "obs_slope_plot = np.array   ([obs_conf_int[:3,:].min(),obs_slopes[3][0],obs_conf_int[:3,:].max()])"
   ]
  },
  {
   "cell_type": "code",
   "execution_count": 133,
   "metadata": {},
   "outputs": [],
   "source": [
    "filename = \"data/41586_2015_BFnature15770_MOESM56_ESM_panelb.csv\" #From DeAngelis et al., 2015 supplementary data"
   ]
  },
  {
   "cell_type": "code",
   "execution_count": 134,
   "metadata": {},
   "outputs": [],
   "source": [
    "cmip5data = pd.read_csv(filename)"
   ]
  },
  {
   "cell_type": "code",
   "execution_count": 135,
   "metadata": {},
   "outputs": [],
   "source": [
    "cmip5models = list(cmip5data.iloc[1:26,1])#,4,5,6,8]]"
   ]
  },
  {
   "cell_type": "code",
   "execution_count": 136,
   "metadata": {},
   "outputs": [
    {
     "name": "stdout",
     "output_type": "stream",
     "text": [
      "1 ACCESS1.0\n",
      "2 ACCESS1.3\n",
      "3 BCC-CSM1.1\n",
      "4 BCC-CSM1.1(m)\n",
      "5 CanESM2\n",
      "6 CCSM4\n",
      "7 CNRM-CM5\n",
      "8 CNRM-CM5-2\n",
      "9 GFDL-CM3\n",
      "10 GFDL-ESM2G\n",
      "11 GFDL-ESM2M\n",
      "12 GISS-E2-H\n",
      "13 GISS-E2-R\n",
      "14 HadGEM2-ES\n",
      "15 INM-CM4\n",
      "16 IPSL-CM5A-LR\n",
      "17 IPSL-CM5A-MR\n",
      "18 IPSL-CM5B-LR\n",
      "19 MIROC-ESM\n",
      "20 MIROC5\n",
      "21 MPI-ESM-LR\n",
      "22 MPI-ESM-MR\n",
      "23 MPI-ESM-P\n",
      "24 MRI-CGCM3\n",
      "25 NorESM1-M\n"
     ]
    }
   ],
   "source": [
    "cmip5model_numbers = np.arange(1,26)\n",
    "for i in range(25):\n",
    "    print(cmip5model_numbers[i],cmip5models[i])"
   ]
  },
  {
   "cell_type": "code",
   "execution_count": 137,
   "metadata": {},
   "outputs": [],
   "source": [
    "cmip5data_vals = np.array(cmip5data.iloc[1:26,[4,5,6,8]],\"float\")"
   ]
  },
  {
   "cell_type": "code",
   "execution_count": 138,
   "metadata": {},
   "outputs": [],
   "source": [
    "x = dswadpw[:,0]\n",
    "xw = dswadpw[:,1]\n",
    "y = toa_clr[:,0]+sfc_clr[:,0]\n",
    "\n",
    "mods = np.arange(len(models))+1\n",
    "\n",
    "mods = mods[~np.isnan(x)]\n",
    "y = y[~np.isnan(x)]\n",
    "xw = xw[~np.isnan(x)]\n",
    "x = x[~np.isnan(x)]\n",
    "\n",
    "\n",
    "x5 = cmip5data_vals[:,1]\n",
    "xm5 = cmip5data_vals[:,0]\n",
    "xp5 = cmip5data_vals[:,2]\n",
    "\n",
    "y5 = -cmip5data_vals[:,3]"
   ]
  },
  {
   "cell_type": "code",
   "execution_count": 139,
   "metadata": {},
   "outputs": [],
   "source": [
    "obs = np.array([29.7,35.5])"
   ]
  },
  {
   "cell_type": "code",
   "execution_count": 140,
   "metadata": {},
   "outputs": [],
   "source": [
    "mods = np.arange(len(models))+1"
   ]
  },
  {
   "cell_type": "code",
   "execution_count": 141,
   "metadata": {},
   "outputs": [],
   "source": [
    "i = np.linspace(.5,0,33)"
   ]
  },
  {
   "cell_type": "code",
   "execution_count": 142,
   "metadata": {},
   "outputs": [],
   "source": [
    "greens = np.vstack([i,i+.5,i])"
   ]
  },
  {
   "cell_type": "markdown",
   "metadata": {},
   "source": [
    "## Figure 1"
   ]
  },
  {
   "cell_type": "code",
   "execution_count": 143,
   "metadata": {},
   "outputs": [
    {
     "data": {
      "image/png": "[encoded data removed]",
      "text/plain": [
       "<Figure size 807.874x432 with 6 Axes>"
      ]
     },
     "metadata": {
      "needs_background": "light"
     },
     "output_type": "display_data"
    }
   ],
   "source": [
    "# Create a figure\n",
    "fig = plt.figure(figsize=(19/2.54*3/2, 6))\n",
    "\n",
    "\n",
    "ax = fig.add_subplot(2,3,1)\n",
    "\n",
    "\n",
    "ax1 = ax.boxplot(dpdt_abs_5_def2,meanline=True,showmeans=True,whis='range',positions=[1],labels=['CMIP5'],widths=.5)\n",
    "for element in ['boxes', 'whiskers', 'means', 'medians', 'caps']:\n",
    "    plt.setp(ax1[element], color='tab:blue')\n",
    "plt.setp(ax1['fliers'], markeredgecolor='tab:blue')\n",
    "plt.setp(ax1['means'], linestyle=\"-\", color='k')\n",
    "plt.setp(ax1['medians'], linestyle=\"none\", color='none')\n",
    "\n",
    "ax2 = ax.boxplot(dp_abs,meanline=True,showmeans=True,whis='range',positions=[2],labels=['CMIP6'],widths=.5)\n",
    "for element in ['boxes', 'whiskers', 'means', 'medians', 'caps']:\n",
    "    plt.setp(ax2[element], color='firebrick')\n",
    "plt.setp(ax2['fliers'], markeredgecolor='firebrick')\n",
    "plt.setp(ax2['means'], linestyle=\"-\", color='k')\n",
    "plt.setp(ax2['medians'], linestyle=\"none\", color='none')\n",
    "\n",
    "#data=[dpdt_abs_5_def2,dp_abs]\n",
    "# ax1 = plt.boxplot(data,meanline=True,whis=[5, 95],labels=['CMIP5','CMIP6']) #,showfliers=False\n",
    "# plt.plot([0,3],[0,0],color='grey',linewidth=1)\n",
    "plt.xlim([0,3])\n",
    "#plt.plot([.5,2.5],[0,0],color='grey',linewidth=1)\n",
    "plt.grid(axis=\"y\",linestyle=\"--\")\n",
    "# plt.title('(a)')\n",
    "plt.ylabel('$dP/dT$ [Wm$^{-2}$K$^{-1}$]',fontdict={'size':12})\n",
    "# ax.set_ylabel('Relative HS [%K$^{-1}$]')\n",
    "# ax.set_title('(b)')\n",
    "\n",
    "\n",
    "ax.text(0.1, 0.9,'(a)',\n",
    "        ha='center', va='center', transform=ax.transAxes,\n",
    "        fontdict={'size':12})\n",
    "\n",
    "\n",
    "ax = fig.add_subplot(2,3,2)\n",
    "\n",
    "\n",
    "y = sfc_cre[:,1]\n",
    "x = sfc_cre_lw_pi\n",
    "#title = \"Watanabe Fig 6a\"\n",
    "\n",
    "# Plot times as x-variable and temperatures as y-variable\n",
    "ax.plot(x,y,marker='o',linestyle='None',color='none',markersize=10) #ax.set_ylabel('$\\lambda$ [W/m2/K]', fontdict={'size':16}) #ax.set_xlabel('$\\lambda_{SW,cre}$ [W/m2/K]', fontdict={'size':16}) ax.set_title(title, fontdict={'size':16})\n",
    "ax.set_ylabel('surface $dLW_{cre}/dT$ [Wm$^{-2}$K$^{-1}$]', fontdict={'size':12})\n",
    "ax.set_xlabel('surface $LW_{cre}$ [Wm$^{-2}$]', fontdict={'size':12})\n",
    "\n",
    "for imod in range(len(x)):\n",
    "    #ax.text(x[imod], y[imod],\"{:d}\".format(mods[imod]), ha='center', va='center',  color=\"k\",fontdict={'size':8})\n",
    "    ax.plot(x[imod], y[imod],marker='o',linestyle='None',color='k',markerfacecolor=greens[:,imod],markersize=10,alpha=0.8)\n",
    "\n",
    "\n",
    "\n",
    "\n",
    "yl=ax.get_ylim()\n",
    "ax.plot([obs[0],obs[0]],yl,color='grey')\n",
    "ax.plot([obs[1],obs[1]],yl,color='grey')\n",
    "ax.set_ylim(yl)\n",
    "\n",
    "\n",
    "slope, intercept, r_value, p_value, std_err = stats.linregress(x,y)\n",
    "regx = np.linspace(x.min(),obs.max(),num=50)\n",
    "regy = (intercept + slope*regx)\n",
    "\n",
    "ax.plot(regx,regy,'k')\n",
    "\n",
    "ax.text(0.01, 0.05,'m='+str(\"%2.3f\" % slope)+' K$^{-1}$', \n",
    "        ha='left', va='center', transform=ax.transAxes, \n",
    "        fontdict={'size':12})#,color=\"C0\")\n",
    "\n",
    "ax.text(0.15, 0.13,'r='+str(round(np.corrcoef(x,y)[1,0],2)),\n",
    "        ha='center', va='center', transform=ax.transAxes,\n",
    "        fontdict={'size':12})\n",
    "\n",
    "# ax.text(0.9, 0.9,'(f)',\n",
    "#         ha='center', va='center', transform=ax.transAxes,\n",
    "#         fontdict={'size':12})\n",
    "\n",
    "\n",
    "# ax.text(0.1, 0.9,'(g)',\n",
    "#         ha='center', va='center', transform=ax.transAxes,\n",
    "#         fontdict={'size':12})\n",
    "\n",
    "ax.text(0.9, 0.9,'(b)',\n",
    "        ha='center', va='center', transform=ax.transAxes,\n",
    "        fontdict={'size':12})\n",
    "\n",
    "\n",
    "\n",
    "\n",
    "ax = fig.add_subplot(2,3,3)\n",
    "\n",
    "\n",
    "y = dp_abs\n",
    "x = sfc_cre_lw_pi\n",
    "#title = \"Watanabe Fig 6a\"\n",
    "\n",
    "# Plot times as x-variable and temperatures as y-variable\n",
    "ax.plot(x,y,marker='o',linestyle='None',color='none',markersize=10) #ax.set_ylabel('$\\lambda$ [W/m2/K]', fontdict={'size':16}) #ax.set_xlabel('$\\lambda_{SW,cre}$ [W/m2/K]', fontdict={'size':16}) ax.set_title(title, fontdict={'size':16})\n",
    "ax.set_ylabel('$dP/dT$ [Wm$^{-2}$K$^{-1}$]', fontdict={'size':12})\n",
    "ax.set_xlabel('surface $LW_{cre}$ [Wm$^{-2}$]', fontdict={'size':12})\n",
    "\n",
    "for imod in range(len(x)):\n",
    "    #ax.text(x[imod], y[imod],\"{:d}\".format(mods[imod]), ha='center', va='center',  color=\"k\",fontdict={'size':8})\n",
    "    ax.plot(x[imod], y[imod],marker='o',linestyle='None',color='k',markerfacecolor=greens[:,imod],markersize=10,alpha=0.8)\n",
    "\n",
    "\n",
    "\n",
    "\n",
    "yl=ax.get_ylim()\n",
    "ax.plot([obs[0],obs[0]],yl,color='grey')\n",
    "ax.plot([obs[1],obs[1]],yl,color='grey')\n",
    "ax.set_ylim(yl)\n",
    "\n",
    "\n",
    "# slope, intercept, r_value, p_value, std_err = stats.linregress(x,y)\n",
    "# regx = np.linspace(x.min(),obs.max(),num=50)\n",
    "# regy = (intercept + slope*regx)\n",
    "\n",
    "# ax.plot(regx,regy,'k')\n",
    "\n",
    "\n",
    "ax.text(0.85, 0.05,'r='+str(round(np.corrcoef(x,y)[1,0],2)),\n",
    "        ha='center', va='center', transform=ax.transAxes,\n",
    "        fontdict={'size':12})\n",
    "\n",
    "# ax.text(0.9, 0.9,'(f)',\n",
    "#         ha='center', va='center', transform=ax.transAxes,\n",
    "#         fontdict={'size':12})\n",
    "\n",
    "\n",
    "# ax.text(0.1, 0.9,'(g)',\n",
    "#         ha='center', va='center', transform=ax.transAxes,\n",
    "#         fontdict={'size':12})\n",
    "\n",
    "\n",
    "ax.text(0.9, 0.9,'(c)',\n",
    "        ha='center', va='center', transform=ax.transAxes,\n",
    "        fontdict={'size':12})\n",
    "\n",
    "\n",
    "ax = fig.add_subplot(2,3,4)\n",
    "\n",
    "\n",
    "\n",
    "x = dswadpw[:,0]\n",
    "y = toa_clr[:,0]+sfc_clr[:,0]\n",
    "mods = np.arange(len(models))\n",
    "mods = mods[~np.isnan(x)]\n",
    "y = y[~np.isnan(x)]\n",
    "x = x[~np.isnan(x)]\n",
    "\n",
    "ax.plot(x,y,linestyle='None',markersize=10)\n",
    "ax.set_xlabel('$dSW_{clr}/dPW$ [%kg$^{-1}$m$^{-2}$]', fontdict={'size':12})\n",
    "ax.set_ylabel('$dSW_{clr}/dT$ [Wm$^{-2}$K$^{-1}$]', fontdict={'size':12})\n",
    "#ax.set_title(title, fontdict={'size':16})\n",
    "\n",
    "\n",
    "# for iobs,color in enumerate([\"green\",\"blue\",\"purple\"]):\n",
    "#     ax.plot([obs_slopes[iobs][0],obs_slopes[iobs][0]],[y.min(),y.max()],color=color)\n",
    "#     ax.plot([x.min(),obs_slopes[iobs][0]],[intercept+slope*obs_slopes[iobs][0],intercept+slope*obs_slopes[iobs][0]],'--',color=color)\n",
    "\n",
    "#         fontdict={'size':12})\n",
    "ax.plot(x5,y5,marker='o',linestyle='None',color='none',markerfacecolor=\"none\",markersize=10,alpha=0.8)\n",
    "ax.plot(x,y,marker='o',linestyle='None',color='none',markerfacecolor=\"none\",markersize=10,alpha=0.8)\n",
    "\n",
    "\n",
    "ax.set_xlim([.02,.13])\n",
    "ax.set_ylim([-1.5,-.45])\n",
    "\n",
    "xl=ax.get_xlim()\n",
    "\n",
    "\n",
    "slope, intercept, r_value, p_value, std_err = stats.linregress(x,y)\n",
    "regx = np.linspace(x.min(),obs_slope_plot[2],num=50)\n",
    "regy = (intercept + slope*regx)\n",
    "\n",
    "\n",
    "# ax.plot([x.min(),x.max()],[-1.1,-1.1],color='m')\n",
    "for iobs,color in enumerate([\"grey\",\"orange\",\"grey\"]):\n",
    "    ax.plot([obs_slope_plot[iobs],obs_slope_plot[iobs]],[-1.5,-.45],color=color)\n",
    "    ax.plot([xl[0],obs_slope_plot[iobs]],[intercept+slope*obs_slope_plot[iobs],intercept+slope*obs_slope_plot[iobs]],'--',color=color)\n",
    "\n",
    "\n",
    "\n",
    "ax.plot(regx,regy,'k',zorder=0)\n",
    "\n",
    "# ax.plot(x5,y5,marker='o',linestyle='None',color='lightgrey',markerfacecolor=\"grey\",markersize=10,alpha=0.8)\n",
    "#ax.plot(x,y,marker='o',linestyle='None',color='lightgrey',markerfacecolor=\"firebrick\",markersize=10,alpha=0.8)\n",
    "\n",
    "for imod,jmod in enumerate(mods):\n",
    "    #ax.text(x[imod], y[imod],\"{:d}\".format(mods[imod]), ha='center', va='center',  color=\"k\",fontdict={'size':8})\n",
    "    ax.plot(x[imod], y[imod],marker='o',linestyle='None',color='k',markerfacecolor=greens[:,jmod],markersize=10,alpha=0.8)\n",
    "\n",
    "\n",
    "\n",
    "ax.text(xl[0], intercept+slope*obs_slope_plot[1],\"{:2.2f} \".format(intercept+slope*obs_slope_plot[1]), \n",
    "        ha='right', va='center', \n",
    "        fontdict={'size':11},color=\"orange\")\n",
    "\n",
    "\n",
    "ax.text(0.15, 0.05,'m='+str(\"%2.1f\" % slope), \n",
    "        ha='center', va='center', transform=ax.transAxes, \n",
    "        fontdict={'size':11})#,color=\"C0\")\n",
    "\n",
    "ax.text(0.15, 0.13,'r='+str(round(np.corrcoef(x,y)[1,0],2)),\n",
    "        ha='center', va='center', transform=ax.transAxes,\n",
    "        fontdict={'size':12})\n",
    "\n",
    "ax.text(0.1, 0.9,'(d)',\n",
    "        ha='center', va='center', transform=ax.transAxes,\n",
    "        fontdict={'size':12})\n",
    "\n",
    "ax = fig.add_subplot(2,3,5)\n",
    "\n",
    "y = dp_abs\n",
    "x = toa_clr[:,0]+sfc_clr[:,0]\n",
    "#title = \"$\\Delta P/\\Delta T$ and clr-$\\Delta SWa/\\Delta T$ [DeAngelis et al 2015ED F7b]\"\n",
    "# Create a figure\n",
    "# Plot times as x-variable and temperatures as y-variable\n",
    "ax.plot(x,y,marker='o',linestyle='None',color='none',markersize=10)\n",
    "ax.set_ylabel('$dP/dT$ [Wm$^{-2}$K$^{-1}$]', fontdict={'size':12})\n",
    "ax.set_xlabel('$dSW_{clr}/dT$ [Wm$^{-2}$K$^{-1}$]', fontdict={'size':12})\n",
    "#ax.set_title(title, fontdict={'size':16})\n",
    "\n",
    "\n",
    "slope, intercept, r_value, p_value, std_err = stats.linregress(x,y)\n",
    "regx = np.linspace(x.min(),x.max(),num=50)\n",
    "regy = (intercept + slope*regx)\n",
    "\n",
    "ax.plot(regx,regy,'k')\n",
    "\n",
    "\n",
    "for imod in range(len(x)):\n",
    "    #ax.text(x[imod], y[imod],\"{:d}\".format(mods[imod]), ha='center', va='center',  color=\"k\",fontdict={'size':8})\n",
    "    ax.plot(x[imod], y[imod],marker='o',linestyle='None',color='k',markerfacecolor=greens[:,imod],markersize=10,alpha=0.8)\n",
    "\n",
    "\n",
    "\n",
    "ax.text(0.85, 0.05,'m='+str(\"%2.2f\" % slope), \n",
    "        ha='center', va='center', transform=ax.transAxes, \n",
    "        fontdict={'size':12})#,color=\"C0\")\n",
    "\n",
    "ax.text(0.85, 0.13,'r='+str(round(np.corrcoef(x,y)[1,0],2)),\n",
    "        ha='center', va='center', transform=ax.transAxes,\n",
    "        fontdict={'size':12})\n",
    "\n",
    "yl=ax.get_ylim()\n",
    "xl=ax.get_xlim()\n",
    "ax.plot([-1.11,-1.11],yl,'--',color='orange',zorder=0)\n",
    "ax.plot([xl[0],-1.11],[intercept+slope*(-1.11),intercept+slope*(-1.11)],':',color='orange',zorder=0)\n",
    "\n",
    "ax.set_ylim(yl)\n",
    "ax.set_xlim(xl)\n",
    "\n",
    "\n",
    "# ax.text(0.1, 0.9,'(e)',\n",
    "#         ha='center', va='center', transform=ax.transAxes,\n",
    "#         fontdict={'size':12})\n",
    "\n",
    "\n",
    "ax.text(0.1, 0.9,'(e)',\n",
    "        ha='center', va='center', transform=ax.transAxes,\n",
    "        fontdict={'size':12})\n",
    "\n",
    "ax = fig.add_subplot(2,3,6)\n",
    "\n",
    "\n",
    "x = dswadpw[:,0]\n",
    "y = dp_abs\n",
    "\n",
    "\n",
    "y = y[~np.isnan(x)]\n",
    "x = x[~np.isnan(x)]\n",
    "\n",
    "\n",
    "ax.plot(x,y,marker='o',linestyle='None',color='none',markersize=10)\n",
    "ax.set_ylabel('$dP/dT$ [Wm$^{-2}$K$^{-1}$]', fontdict={'size':12})\n",
    "ax.set_xlabel('$dSWA/dPW$ [%kg$^{-1}$m$^{-2}$]', fontdict={'size':12})\n",
    "#ax.set_title(title, fontdict={'size':16})\n",
    "\n",
    "\n",
    "slope, intercept, r_value, p_value, std_err = stats.linregress(x,y)\n",
    "regx = np.linspace(x.min(),obs_slope_plot[2],num=50)\n",
    "regy = (intercept + slope*regx)\n",
    "\n",
    "\n",
    "\n",
    "for imod in range(len(x)):\n",
    "    #ax.text(x[imod], y[imod],\"{:d}\".format(mods[imod]), ha='center', va='center',  color=\"k\",fontdict={'size':8})\n",
    "    ax.plot(x[imod], y[imod],marker='o',linestyle='None',color='k',markerfacecolor=greens[:,imod],markersize=10,alpha=0.8)\n",
    "\n",
    "\n",
    "ax.plot(regx,regy,'k',zorder=0)\n",
    "\n",
    "ax.text(0.825, 0.83,'m='+str(\"%2.1f\" % slope), \n",
    "        ha='center', va='center', transform=ax.transAxes, \n",
    "        fontdict={'size':11})#,color=\"C0\")\n",
    "\n",
    "\n",
    "yl=ax.get_ylim()\n",
    "xl=ax.get_xlim()\n",
    "\n",
    "for iobs,color in enumerate([\"grey\",\"orange\",\"grey\"]):\n",
    "    ax.plot([obs_slope_plot[iobs],obs_slope_plot[iobs]],[yl[0],yl[1]],color=color,zorder=0)\n",
    "    ax.plot([xl[0],obs_slope_plot[iobs]],[intercept+slope*obs_slope_plot[iobs],intercept+slope*obs_slope_plot[iobs]],'--',color=color,zorder=0)\n",
    "\n",
    "ax.set_ylim(yl)\n",
    "ax.set_xlim(xl)\n",
    "\n",
    "ax.text(0.825, 0.9,'r='+str(round(np.corrcoef(x,y)[1,0],2)),\n",
    "        ha='center', va='center', transform=ax.transAxes,\n",
    "        fontdict={'size':11})\n",
    "\n",
    "\n",
    "\n",
    "ax.text(0.1, 0.1,'(f)',\n",
    "        ha='center', va='center', transform=ax.transAxes,\n",
    "        fontdict={'size':12})\n",
    "\n",
    "plt.tight_layout()"
   ]
  },
  {
   "cell_type": "markdown",
   "metadata": {},
   "source": [
    "## Figure 2"
   ]
  },
  {
   "cell_type": "code",
   "execution_count": 144,
   "metadata": {},
   "outputs": [
    {
     "data": {
      "image/png": "[encoded data removed]",
      "text/plain": [
       "<Figure size 538.583x432 with 4 Axes>"
      ]
     },
     "metadata": {
      "needs_background": "light"
     },
     "output_type": "display_data"
    }
   ],
   "source": [
    "fig = plt.figure(figsize=(19/2.54, 6))\n",
    "\n",
    "ax = fig.add_subplot(2,2,1)\n",
    "\n",
    "x = sfc_cre[:,1]\n",
    "y = -toa_cre[:,0]\n",
    "\n",
    "\n",
    "# Plot times as x-variable and temperatures as y-variable\n",
    "ax.plot(x,y,marker='o',linestyle='None',color='none',markersize=10)\n",
    "ax.set_xlabel('surface $dLW_{cre}/dT$ [Wm$^{-2}$K$^{-1}$]', fontdict={'size':12})\n",
    "ax.set_ylabel('$\\lambda_{SW,cre}$ [Wm$^{-2}$K$^{-1}$]', fontdict={'size':12})\n",
    "#ax.set_title(title, fontdict={'size':16})\n",
    "\n",
    "ax.set_xlim([-1.35,-.35])\n",
    "\n",
    "\n",
    "slope, intercept, r_value, p_value, std_err = stats.linregress(x,y)\n",
    "regx = np.linspace(x.min(),x.max(),num=50)\n",
    "regy = (intercept + slope*regx)\n",
    "\n",
    "ax.plot(regx,regy,'k')\n",
    "\n",
    "# ax.text(0.15, 0.15,'m='+str(\"%2.2f\" % slope), \n",
    "#         ha='center', va='bottom', transform=ax.transAxes, \n",
    "#         fontdict={'size':12})#,color=\"C0\")\n",
    "\n",
    "\n",
    "for imod in range(len(x)):\n",
    "    #ax.text(x[imod], y[imod],\"{:d}\".format(mods[imod]), ha='center', va='center',  color=\"k\",fontdict={'size':8})\n",
    "    ax.plot(x[imod], y[imod],marker='o',linestyle='None',color='k',markerfacecolor=greens[:,imod],markersize=10,alpha=0.8)\n",
    "\n",
    "\n",
    "\n",
    "ax.text(0.15, 0.1,'r='+str(round(np.corrcoef(x,y)[1,0],2)), \n",
    "        ha='center', va='center', transform=ax.transAxes, \n",
    "        fontdict={'size':12})\n",
    "\n",
    "\n",
    "\n",
    "ax.text(0.1, 0.9,'(a)',\n",
    "        ha='center', va='center', transform=ax.transAxes,\n",
    "        fontdict={'size':12})\n",
    "\n",
    "\n",
    "\n",
    "ax = fig.add_subplot(2,2,3)\n",
    "\n",
    "\n",
    "x = sfc_cre[:,1]\n",
    "y = dp_abs\n",
    "\n",
    "\n",
    "# Plot times as x-variable and temperatures as y-variable\n",
    "ax.plot(x,y,marker='o',linestyle='None',color='none',markersize=10)\n",
    "ax.set_ylabel('$dP/dT$ [Wm$^{-2}$K$^{-1}$]', fontdict={'size':12})\n",
    "ax.set_xlabel('surface $dLW_{cre}/dT$ [Wm$^{-2}$K$^{-1}$]', fontdict={'size':12})\n",
    "#ax.set_title(title, fontdict={'size':16})\n",
    "\n",
    "for imod in range(len(x)):\n",
    "    #ax.text(x[imod], y[imod],\"{:d}\".format(mods[imod]), ha='center', va='center',  color=\"k\",fontdict={'size':8})\n",
    "    ax.plot(x[imod], y[imod],marker='o',linestyle='None',color='k',markerfacecolor=greens[:,imod],markersize=10,alpha=0.8)\n",
    "\n",
    "ax.set_ylim([1.7,2.7])\n",
    "ax.set_xlim([-1.35,-.35])\n",
    "\n",
    "#ax.set_xlim([-.515,.485])\n",
    "\n",
    "ax.text(0.15, 0.1,'r='+str(round(np.corrcoef(x,y)[1,0],2)),\n",
    "        ha='center', va='center', transform=ax.transAxes,\n",
    "        fontdict={'size':12})\n",
    "\n",
    "ax.text(0.1, 0.9,'(c)',\n",
    "        ha='center', va='center', transform=ax.transAxes,\n",
    "        fontdict={'size':12})\n",
    "\n",
    "\n",
    "\n",
    "ax = fig.add_subplot(2,2,2)\n",
    "\n",
    "\n",
    "x = ecs/2\n",
    "y = -toa_cre[:,0]\n",
    "\n",
    "\n",
    "\n",
    "\n",
    "# Plot times as x-variable and temperatures as y-variable\n",
    "ax.plot(x,y,marker='o',linestyle='None',color='none',markersize=10)\n",
    "ax.set_xlabel('ECS [K]', fontdict={'size':12})\n",
    "ax.set_ylabel('$\\lambda_{SW,cre}$ [Wm$^{-2}$K$^{-1}$]', fontdict={'size':12})\n",
    "#ax.set_title(title, fontdict={'size':16})\n",
    "\n",
    "\n",
    "slope, intercept, r_value, p_value, std_err = stats.linregress(x,y)\n",
    "regx = np.linspace(x.min(),x.max(),num=50)\n",
    "regy = (intercept + slope*regx)\n",
    "\n",
    "ax.plot(regx,regy,'k')\n",
    "\n",
    "for imod in range(len(x)):\n",
    "    #ax.text(x[imod], y[imod],\"{:d}\".format(mods[imod]), ha='center', va='center',  color=\"k\",fontdict={'size':8})\n",
    "    ax.plot(x[imod], y[imod],marker='o',linestyle='None',color='k',markerfacecolor=greens[:,imod],markersize=10,alpha=0.8)\n",
    "\n",
    "\n",
    "# ax.set_ylim([-1.575,-.575])\n",
    "# ax.set_xlim([-.5,.5])\n",
    "\n",
    "\n",
    "ax.text(0.85, 0.1,'r='+str(round(np.corrcoef(x,y)[1,0],2)), \n",
    "        ha='center', va='center', transform=ax.transAxes, \n",
    "        fontdict={'size':12})\n",
    "\n",
    "ax.text(0.1, 0.9,'(b)',\n",
    "        ha='center', va='center', transform=ax.transAxes,\n",
    "        fontdict={'size':12})\n",
    "\n",
    "\n",
    "\n",
    "\n",
    "ax = fig.add_subplot(2,2,4)\n",
    "\n",
    "\n",
    "\n",
    "\n",
    "x = ecs/2\n",
    "y = dp_abs\n",
    "\n",
    "\n",
    "# Plot times as x-variable and temperatures as y-variable\n",
    "ax.plot(x,y,marker='o',linestyle='None',color='none',markersize=10)\n",
    "ax.set_ylabel('$dP/dT$ [Wm$^{-2}$K$^{-1}$]', fontdict={'size':12})\n",
    "ax.set_xlabel('ECS [K]', fontdict={'size':12})\n",
    "\n",
    "for imod in range(len(x)):\n",
    "    #ax.text(x[imod], y[imod],\"{:d}\".format(mods[imod]), ha='center', va='center',  color=\"k\",fontdict={'size':8})\n",
    "    ax.plot(x[imod], y[imod],marker='o',linestyle='None',color='k',markerfacecolor=greens[:,imod],markersize=10,alpha=0.8)\n",
    "\n",
    "ax.set_ylim([1.7,2.7])\n",
    "\n",
    "\n",
    "#ax.text(0.85, 0.1,'r='+str(round(np.corrcoef(x,y)[1,0],2)),\n",
    "#ax.text(0.85, 0.9,'r='+str(round(np.corrcoef(x,y)[1,0],2)),\n",
    "ax.text(0.15, 0.075,'r='+str(round(np.corrcoef(x,y)[1,0],2)),\n",
    "        ha='center', va='center', transform=ax.transAxes,\n",
    "        fontdict={'size':12})\n",
    "\n",
    "\n",
    "\n",
    "ax.text(0.9, 0.9,'(d)',\n",
    "        ha='center', va='center', transform=ax.transAxes,\n",
    "        fontdict={'size':12})\n",
    "\n",
    "\n",
    "plt.tight_layout()"
   ]
  },
  {
   "cell_type": "markdown",
   "metadata": {},
   "source": [
    "### Constraining HS: CMIP6, also repeat CMIP5"
   ]
  },
  {
   "cell_type": "code",
   "execution_count": 156,
   "metadata": {},
   "outputs": [],
   "source": [
    "y = dp_abs\n",
    "x = toa_clr[:,0]+sfc_clr[:,0]\n"
   ]
  },
  {
   "cell_type": "code",
   "execution_count": 157,
   "metadata": {},
   "outputs": [],
   "source": [
    "slope, intercept, r_value, p_value, std_err = stats.linregress(x,y)\n",
    "regx = np.linspace(x.min(),x.max(),num=50)\n",
    "regy = (intercept + slope*regx)"
   ]
  },
  {
   "cell_type": "code",
   "execution_count": 158,
   "metadata": {},
   "outputs": [
    {
     "data": {
      "image/png": "[encoded data removed]",
      "text/plain": [
       "<Figure size 504x432 with 1 Axes>"
      ]
     },
     "metadata": {
      "needs_background": "light"
     },
     "output_type": "display_data"
    }
   ],
   "source": [
    "\n",
    "# Create a figure\n",
    "fig = plt.figure(figsize=(7, 6))\n",
    "\n",
    "# Ask, out of a 1x1 grid, the first axes.\n",
    "ax = fig.add_subplot(1, 1, 1)\n",
    "\n",
    "# Plot times as x-variable and temperatures as y-variable\n",
    "ax.plot(x,y,marker='o',linestyle='None',color='k',markersize=20)\n",
    "#ax.set_ylabel('$\\Delta P/\\Delta T$ [W/m2/K]', fontdict={'size':16})\n",
    "#ax.set_xlabel('atmosphere $\\Delta R_{LW}/\\Delta T$ [W/m2/K]', fontdict={'size':16})\n",
    "\n",
    "ax.plot([-1.1,-1.1],[y.min(),y.max()],color='m')\n",
    "\n",
    "\n",
    "ax.plot(regx,regy)\n",
    "\n",
    "ax.text(0.1, 0.15,'r='+str(round(np.corrcoef(x,y)[1,0],2)), \n",
    "        ha='center', va='center', transform=ax.transAxes, \n",
    "        fontdict={'size':16})\n",
    "\n",
    "\n",
    "ax.text(0.03, 0.1,'slope='+str(\"%2.2f\" % slope), \n",
    "        ha='left', va='center', transform=ax.transAxes, \n",
    "        fontdict={'size':16},color=\"C0\")\n",
    "\n",
    "plt.tight_layout()"
   ]
  },
  {
   "cell_type": "code",
   "execution_count": 159,
   "metadata": {},
   "outputs": [],
   "source": [
    "dpdt_model_reg  = (intercept + slope*x)"
   ]
  },
  {
   "cell_type": "code",
   "execution_count": 160,
   "metadata": {},
   "outputs": [],
   "source": [
    "dpdt_true = (intercept + slope*(-1.1))"
   ]
  },
  {
   "cell_type": "code",
   "execution_count": 161,
   "metadata": {},
   "outputs": [],
   "source": [
    "dpdt_bias = dpdt_model_reg - dpdt_true\n"
   ]
  },
  {
   "cell_type": "code",
   "execution_count": 162,
   "metadata": {},
   "outputs": [],
   "source": [
    "dpdt_abs_dcorr_d6 = dp_abs - dpdt_bias"
   ]
  },
  {
   "cell_type": "code",
   "execution_count": 163,
   "metadata": {},
   "outputs": [
    {
     "data": {
      "text/plain": [
       "'CMIP6 dSWclr/dT-constrained absolute HS mean: 2.1  ( 4%)'"
      ]
     },
     "execution_count": 163,
     "metadata": {},
     "output_type": "execute_result"
    }
   ],
   "source": [
    "'CMIP6 dSWclr/dT-constrained absolute HS mean: {:2.1f}  ({:2.0f}%)'.format(dpdt_abs_dcorr_d6.mean(),100-dpdt_abs_dcorr_d6.mean()/dp_abs.mean()*100)"
   ]
  },
  {
   "cell_type": "code",
   "execution_count": 164,
   "metadata": {},
   "outputs": [
    {
     "data": {
      "text/plain": [
       "'CMIP6 dSWclr/dT-constrained absolute HS spread: 0.21  (11%)'"
      ]
     },
     "execution_count": 164,
     "metadata": {},
     "output_type": "execute_result"
    }
   ],
   "source": [
    "'CMIP6 dSWclr/dT-constrained absolute HS spread: {:2.2f}  ({:2.0f}%)'.format(dpdt_abs_dcorr_d6.std(),100-dpdt_abs_dcorr_d6.std()/dp_abs.std()*100)"
   ]
  },
  {
   "cell_type": "markdown",
   "metadata": {},
   "source": [
    "### DeAngelis constraint for CMIP5 (for comparison)"
   ]
  },
  {
   "cell_type": "code",
   "execution_count": 165,
   "metadata": {},
   "outputs": [],
   "source": [
    "y = dpdt_abs_5_def2\n",
    "x = -clr_dSWAdT_5_def2\n"
   ]
  },
  {
   "cell_type": "code",
   "execution_count": 166,
   "metadata": {},
   "outputs": [],
   "source": [
    "slope, intercept, r_value, p_value, std_err = stats.linregress(x,y)\n",
    "regx = np.linspace(x.min(),x.max(),num=50)\n",
    "regy = (intercept + slope*regx)"
   ]
  },
  {
   "cell_type": "code",
   "execution_count": 169,
   "metadata": {},
   "outputs": [
    {
     "data": {
      "image/png": "[encoded data removed]",
      "text/plain": [
       "<Figure size 504x432 with 1 Axes>"
      ]
     },
     "metadata": {
      "needs_background": "light"
     },
     "output_type": "display_data"
    }
   ],
   "source": [
    "fig = plt.figure(figsize=(7, 6))\n",
    "\n",
    "ax = fig.add_subplot(1, 1, 1)\n",
    "\n",
    "ax.plot(x,y,marker='o',linestyle='None',color='k',markersize=20)\n",
    "\n",
    "ax.set_title(\"Following DeAngelis et al., 2015, Fig 2b\", fontdict={'size':16})\n",
    "\n",
    "ax.plot([-1.1,-1.1],[y.min(),y.max()],color='m')\n",
    "\n",
    "\n",
    "\n",
    "ax.plot(regx,regy)\n",
    "\n",
    "ax.text(0.95, 0.15,'r='+str(round(np.corrcoef(x,y)[1,0],2)), \n",
    "        ha='right', va='center', transform=ax.transAxes, \n",
    "        fontdict={'size':16})\n",
    "\n",
    "\n",
    "ax.text(0.95, 0.1,'slope='+str(\"%2.2f\" % slope), \n",
    "        ha='right', va='center', transform=ax.transAxes, \n",
    "        fontdict={'size':16},color=\"C0\")\n",
    "\n",
    "plt.tight_layout()\n"
   ]
  },
  {
   "cell_type": "code",
   "execution_count": 170,
   "metadata": {},
   "outputs": [],
   "source": [
    "dpdt_model_reg  = (intercept + slope*x)"
   ]
  },
  {
   "cell_type": "code",
   "execution_count": 171,
   "metadata": {},
   "outputs": [],
   "source": [
    "dpdt_true = (intercept + slope*(-1.1))"
   ]
  },
  {
   "cell_type": "code",
   "execution_count": 172,
   "metadata": {},
   "outputs": [],
   "source": [
    "dpdt_bias = dpdt_model_reg - dpdt_true\n"
   ]
  },
  {
   "cell_type": "code",
   "execution_count": 173,
   "metadata": {},
   "outputs": [],
   "source": [
    "dpdt_abs_dcorr_d5 = dpdt_abs_5_def2 - dpdt_bias"
   ]
  },
  {
   "cell_type": "code",
   "execution_count": 174,
   "metadata": {},
   "outputs": [
    {
     "data": {
      "text/plain": [
       "'CMIP5 DeAngelis-constrained absolute HS mean: 2.0  (10%)'"
      ]
     },
     "execution_count": 174,
     "metadata": {},
     "output_type": "execute_result"
    }
   ],
   "source": [
    "'CMIP5 DeAngelis-constrained absolute HS mean: {:2.1f}  ({:2.0f}%)'.format(dpdt_abs_dcorr_d5.mean(),100-dpdt_abs_dcorr_d5.mean()/dpdt_abs_5_def2.mean()*100)\n"
   ]
  },
  {
   "cell_type": "code",
   "execution_count": 175,
   "metadata": {},
   "outputs": [
    {
     "data": {
      "text/plain": [
       "'CMIP5 DeAngelis-constrained absolute HS spread: 0.16  (31%)'"
      ]
     },
     "execution_count": 175,
     "metadata": {},
     "output_type": "execute_result"
    }
   ],
   "source": [
    "'CMIP5 DeAngelis-constrained absolute HS spread: {:2.2f}  ({:2.0f}%)'.format(dpdt_abs_dcorr_d5.std(),100-dpdt_abs_dcorr_d5.std()/dpdt_abs_5_def2.std()*100)\n"
   ]
  }
 ],
 "metadata": {
  "kernelspec": {
   "display_name": "Python 3",
   "language": "python",
   "name": "python3"
  },
  "language_info": {
   "codemirror_mode": {
    "name": "ipython",
    "version": 3
   },
   "file_extension": ".py",
   "mimetype": "text/x-python",
   "name": "python",
   "nbconvert_exporter": "python",
   "pygments_lexer": "ipython3",
   "version": "3.8.5"
  }
 },
 "nbformat": 4,
 "nbformat_minor": 4
}
